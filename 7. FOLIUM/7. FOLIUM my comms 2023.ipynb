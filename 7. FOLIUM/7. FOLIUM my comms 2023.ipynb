{
 "cells": [
  {
   "cell_type": "code",
   "execution_count": null,
   "id": "dc31ac88",
   "metadata": {},
   "outputs": [],
   "source": [
    "!pip install folium\n",
    "!pip install wget"
   ]
  },
  {
   "cell_type": "code",
   "execution_count": null,
   "id": "c97d81c6",
   "metadata": {},
   "outputs": [],
   "source": [
    "import folium\n",
    "import wget\n",
    "import pandas as pd"
   ]
  },
  {
   "cell_type": "code",
   "execution_count": null,
   "id": "d0b90b8d",
   "metadata": {},
   "outputs": [],
   "source": [
    "from folium.plugins import MarkerCluster\n",
    "from folium.plugins import MousePosition\n",
    "from folium.features import DivIcon"
   ]
  },
  {
   "cell_type": "code",
   "execution_count": null,
   "id": "aaae2707",
   "metadata": {},
   "outputs": [],
   "source": [
    "spacex_csv_file = wget.download('https://cf-courses-data.s3.us.cloud-object-storage.appdomain.cloud/IBM-DS0321EN-SkillsNetwork/datasets/spacex_launch_geo.csv')\n",
    "spacex_df = pd.read.csv(spacex_csv_file)"
   ]
  },
  {
   "cell_type": "code",
   "execution_count": null,
   "id": "556ce155",
   "metadata": {},
   "outputs": [],
   "source": [
    "spacex_df = spacex_df[['Launch Site', 'Lat', 'Long', 'class']]\n",
    "launch_sites_df = spacex_df.groupby(['Launch Site'], as_index=False).first()\n",
    "launch_sites_df = launch_sites_df[['Launch Site', 'Lat', 'Long']]\n",
    "launch_sites_df\n",
    "#napravis od csv pandas tablicu i onda iz nje kolone ivuces lat i long za pozicije na mapi"
   ]
  },
  {
   "cell_type": "code",
   "execution_count": null,
   "id": "f17a1b46",
   "metadata": {},
   "outputs": [],
   "source": [
    "#nasa space center\n",
    "nasa_coordinate = [29.559684888503615, -95.0830971930759]\n",
    "site_map = folium.Map(location=nasa_coordinate, zoom_start=10)"
   ]
  },
  {
   "cell_type": "code",
   "execution_count": 1,
   "id": "abf3ef92",
   "metadata": {},
   "outputs": [
    {
     "ename": "SyntaxError",
     "evalue": "invalid syntax (Temp/ipykernel_12032/2335252922.py, line 14)",
     "output_type": "error",
     "traceback": [
      "\u001b[1;36m  File \u001b[1;32m\"C:\\Users\\Katarina\\AppData\\Local\\Temp/ipykernel_12032/2335252922.py\"\u001b[1;36m, line \u001b[1;32m14\u001b[0m\n\u001b[1;33m    An example of folium.Marker:\u001b[0m\n\u001b[1;37m       ^\u001b[0m\n\u001b[1;31mSyntaxError\u001b[0m\u001b[1;31m:\u001b[0m invalid syntax\n"
     ]
    }
   ],
   "source": [
    "# Create a blue circle at NASA Johnson Space Center's coordinate with a popup label showing its name\n",
    "circle = folium.Circle(nasa_coordinate, radius=1000, color='#d35400', fill=True).add_child(folium.Popup('NASA Johnson Space Center'))\n",
    "# Create a blue circle at NASA Johnson Space Center's coordinate with a icon showing its name\n",
    "marker = folium.map.Marker(\n",
    "    nasa_coordinate,\n",
    "    # Create an icon as a text label\n",
    "    icon=DivIcon(\n",
    "        icon_size=(20,20),\n",
    "        icon_anchor=(0,0),\n",
    "        html='<div style=\"font-size: 12; color:#d35400;\"><b>%s</b></div>' % 'NASA JSC',\n",
    "        )\n",
    "    )\n",
    "#OVO JE BILO ZADANU U PRIMJERU FOLIUM MARKERA DIV STLE I 35400 I SVE TO\n",
    "#An example of folium.Marker:\n",
    "#folium.map.Marker(coordinate, icon=DivIcon(icon_size=(20,20),icon_anchor=(0,0),\n",
    "#html='<div style=\"font-size: 12; color:#d35400;\"><b>%s</b></div>' % 'label', ))\n",
    "#MARKER I DIVICON JE ZA TEKST IDU SKUPA..CHILD TI JE KA DIO JEDNE OZNAKE GORE ZA POPUP\n",
    "site_map.add_child(circle)\n",
    "site_map.add_child(marker)\n",
    "#U OVOME ZA POMOC O D LAT I LONG RADE CIRCLE MARKERS A OD LAT LONG I LABELS RADE TEKSTOVE DA NE MAKRKERI PUSTI"
   ]
  },
  {
   "cell_type": "code",
   "execution_count": null,
   "id": "bfacf812",
   "metadata": {},
   "outputs": [],
   "source": [
    "#u ideucem zadatku prvo kroz iteraciju stvorili u koloni s bojama tocno boju za svaki launch a \n",
    "#onda tu kolonu samo primijenili s markerima, znaci vec boje u koloni gotove\n",
    "#ne kako micemo misem ili sl\n"
   ]
  },
  {
   "cell_type": "code",
   "execution_count": null,
   "id": "5965eba9",
   "metadata": {},
   "outputs": [],
   "source": [
    "#u ideucem tasku se prvo stvori po gotovom kodu field di se prikazuje mouse postiion kako mices misem"
   ]
  },
  {
   "cell_type": "code",
   "execution_count": null,
   "id": "517df49a",
   "metadata": {},
   "outputs": [],
   "source": [
    "#posli su nam dali importane libraries za matisu i ti micanjem misa nadjes koordinate koje ti trebaju\n",
    "#i te lat i long oduzimas i zbrajas i od njih radis marker s tekstom\n",
    "#isto ka u ranijiem zadatku gore s divIcon\n",
    "\n",
    "#isto i ployline crtu s priakzom udaljenosti izmedju 2 mista"
   ]
  },
  {
   "cell_type": "code",
   "execution_count": null,
   "id": "6049ca60",
   "metadata": {},
   "outputs": [],
   "source": [
    "#kad nemas ime za lat i long odvojeno nego npr closes highwas pa u zagrade\n",
    "#latitude i longitude,onda vadis po poziciji varijable [0] je lat a [longitude]"
   ]
  },
  {
   "cell_type": "code",
   "execution_count": null,
   "id": "8eac80fb",
   "metadata": {},
   "outputs": [],
   "source": [
    "#% \"{:10.2f} KM formatiranje na 2 decimale kilometara, a format je kljucna rijec za varijablu koju markiras"
   ]
  }
 ],
 "metadata": {
  "kernelspec": {
   "display_name": "Python 3 (ipykernel)",
   "language": "python",
   "name": "python3"
  },
  "language_info": {
   "codemirror_mode": {
    "name": "ipython",
    "version": 3
   },
   "file_extension": ".py",
   "mimetype": "text/x-python",
   "name": "python",
   "nbconvert_exporter": "python",
   "pygments_lexer": "ipython3",
   "version": "3.9.7"
  }
 },
 "nbformat": 4,
 "nbformat_minor": 5
}
