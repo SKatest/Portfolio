{
 "cells": [
  {
   "cell_type": "markdown",
   "id": "2b7bc342-4cf6-4cfe-9f6d-48c0e6fda238",
   "metadata": {},
   "source": [
    "<center><img src=\"https://cf-courses-data.s3.us.cloud-object-storage.appdomain.cloud/assets/logos/SN_web_lightmode.png\" width=\"300\"></center><br/>\n",
    "\n",
    "# Assignment: Notebook for Peer Assignment\n",
    "\n",
    "Estimated time needed: 60 minutes\n"
   ]
  },
  {
   "cell_type": "markdown",
   "id": "95870826-9e89-4fdf-950f-5192287fc4f4",
   "metadata": {},
   "source": [
    "# Assignment Scenario\n",
    "\n",
    "Congratulations! You have just been hired by a US Weather forecast firm as a data scientist.\n",
    "\n",
    "The company is considering the weather condition to help predict the possibility of precipitations, which involves using various local climatological variables, including temperature, wind speed, humidity, dew point, and pressure. The data you will be handling was collected by a NOAA weather station located at the John F. Kennedy International Airport in Queens, New York.\n",
    "\n",
    "Your task is to provide a high level analysis of weather data in JFK Airport. Your stakeholders want to understand the current and historical record of precipitations based on different variables. For now they are mainly interested in a macro-view of JFK Airport Weather, and how it relates to the possibility to rain because it will affect flight delays and etc.\n"
   ]
  },
  {
   "cell_type": "markdown",
   "id": "6620099c-31a8-434b-9660-f5424312f3e9",
   "metadata": {},
   "source": [
    "# Introduction\n",
    "\n",
    "This project relates to the NOAA Weather Dataset - JFK Airport (New York). The original dataset contains 114,546 hourly observations of 12 local climatological variables (such as temperature and wind speed) collected at JFK airport. This dataset can be obtained for free from the IBM Developer [Data Asset Exchange](https://developer.ibm.com/exchanges/data/all/jfk-weather-data/?utm_medium=Exinfluencer&utm_source=Exinfluencer&utm_content=000026UJ&utm_term=10006555&utm_id=NA-SkillsNetwork-Channel-SkillsNetworkCoursesIBMDA0151ENSkillsNetwork926-2022-01-01). \n",
    "\n",
    "For this project, you will be using a subset dataset, which contains 5727 rows (about 5% or original rows) and 9 columns. The end goal will be to predict the precipitation using some of the available features. In this project, you will practice reading data files, preprocessing data, creating models, improving models and evaluating them to ultimately choose the best model.\n",
    "\n"
   ]
  },
  {
   "cell_type": "markdown",
   "id": "9e524d97-d665-4c0b-85ed-9905c024376a",
   "metadata": {},
   "source": [
    "\n",
    "## Table of Contents:\n",
    "\n",
    "Using this R notebook you will complete **10 tasks**:\n",
    "* [0. Import Modules](#cell0)\n",
    "* [1. Download and Unzip NOAA Weather Dataset](#cell1)\n",
    "* [2. Read Dataset into Project](#cell2)\n",
    "* [3. Select Subset of Columns](#cell3)\n",
    "* [4. Clean Up Columns](#cell4)\n",
    "* [5. Convert Columns to Numerical Types](#cell5)\n",
    "* [6. Rename Columns](#cell6)\n",
    "* [7. Exploratory Data Analysis](#cell7)\n",
    "* [8. Linear Regression](#cell8)\n",
    "* [9. Improve the Model](#cell9)\n",
    "* [10. Find Best Model](#cell10)\n",
    "\n",
    "\n",
    "<a id=\"cell0\"></a>\n",
    "## 0. Import required modules\n",
    "\n",
    "Below, install \"tidymodels\", additionally \"rlang\" should be updated in order to properly run \"tidymodels\". \n"
   ]
  },
  {
   "cell_type": "code",
   "execution_count": 76,
   "id": "c0ed5598-d2ff-4b7d-a624-7d992b6373f5",
   "metadata": {},
   "outputs": [
    {
     "name": "stderr",
     "output_type": "stream",
     "text": [
      "Updating HTML index of packages in '.Library'\n",
      "Making 'packages.html' ... done\n",
      "Updating HTML index of packages in '.Library'\n",
      "Making 'packages.html' ... done\n"
     ]
    }
   ],
   "source": [
    "# Install tidymodels if you haven't done so\n",
    "install.packages(\"rlang\")\n",
    "install.packages(\"tidymodels\")"
   ]
  },
  {
   "cell_type": "markdown",
   "id": "88b0e693-b0e0-4d76-8547-e72daf63facf",
   "metadata": {},
   "source": [
    "**Note: After installing the packages, restart the kernel. Without installing the packages again, load them. Tidyverse and Tidymodels will be the two main packages you will use.**\n"
   ]
  },
  {
   "cell_type": "code",
   "execution_count": 77,
   "id": "7d233597-0b93-4893-ac9c-712dcfc6b023",
   "metadata": {},
   "outputs": [],
   "source": [
    "# Library for modeling\n",
    "library(tidymodels)\n",
    "\n",
    "# Load tidyverse\n",
    "library(tidyverse)"
   ]
  },
  {
   "cell_type": "markdown",
   "id": "b67c623c-845b-4120-ac5b-6fb65a9d7f65",
   "metadata": {},
   "source": [
    "\n",
    "### Understand the Dataset\n",
    "\n",
    "The original NOAA JFK dataset contains 114,546 hourly observations of various local climatological variables (including temperature, wind speed, humidity, dew point, and pressure). \n",
    "\n",
    "In this project you will use a sample dataset, which is around 293 KB. [Link to the sample dataset](https://dax-cdn.cdn.appdomain.cloud/dax-noaa-weather-data-jfk-airport/1.1.4/noaa-weather-sample-data.tar.gz).\n",
    "\n",
    "The sample contains 5727 rows (about 5% or original rows) and 9 columns, which are:\n",
    "- DATE\n",
    "- HOURLYDewPointTempF\n",
    "- HOURLYRelativeHumidity\n",
    "- HOURLYDRYBULBTEMPF\n",
    "- HOURLYWETBULBTEMPF\n",
    "- HOURLYPrecip\n",
    "- HOURLYWindSpeed\n",
    "- HOURLYSeaLevelPressure\n",
    "- HOURLYStationPressure\n",
    "\n",
    "The original dataset is much bigger. Feel free to explore the original dataset. [Link to the original dataset.](https://dax-cdn.cdn.appdomain.cloud/dax-noaa-weather-data-jfk-airport/1.1.4/noaa_weather.html) \n",
    "\n",
    "For more information about the dataset, checkout the [preview](https://dax-cdn.cdn.appdomain.cloud/dax-noaa-weather-data-jfk-airport/1.1.4/data-preview/index.html?_ga=2.176781478.281508226.1616293518-1509963377.1616117067&cm_mc_uid=90945889198916153255549&cm_mc_sid_50200000=64650651616293516933) of NOAA Weather - JFK Airport.\n"
   ]
  },
  {
   "cell_type": "markdown",
   "id": "a81569dc-ef79-4dbc-8c33-864e5f75ffa0",
   "metadata": {},
   "source": [
    "<a id=\"cell1\"></a>\n",
    "\n",
    "## 1. Download NOAA Weather Dataset\n",
    "\n",
    "Use the `download.file()` function to download the sample dataset from the URL below.\n",
    "\n",
    "URL = 'https://dax-cdn.cdn.appdomain.cloud/dax-noaa-weather-data-jfk-airport/1.1.4/noaa-weather-sample-data.tar.gz'\n"
   ]
  },
  {
   "cell_type": "code",
   "execution_count": 78,
   "id": "4c29369d-ee21-4cba-8b0b-1c94d4e81efb",
   "metadata": {},
   "outputs": [],
   "source": [
    "\n",
    "url <- \"https://dax-cdn.cdn.appdomain.cloud/dax-noaa-weather-data-jfk-airport/1.1.4/noaa-weather-sample-data.tar.gz\"\n",
    "download.file(url, destfile = \"noaa-weather-sample-data.tar.gz\")"
   ]
  },
  {
   "cell_type": "markdown",
   "id": "a17e0a90-d6d1-48de-bea6-fb0b83fc9847",
   "metadata": {},
   "source": [
    "Untar the zipped file.\n"
   ]
  },
  {
   "cell_type": "code",
   "execution_count": 79,
   "id": "8d736085-5e28-435d-977e-70d6b537f3ae",
   "metadata": {},
   "outputs": [
    {
     "name": "stderr",
     "output_type": "stream",
     "text": [
      "Warning message in untar2(tarfile, files, list, exdir, restore_times):\n",
      "“using pax extended headers”"
     ]
    }
   ],
   "source": [
    "untar(\"noaa-weather-sample-data.tar.gz\", tar = \"internal\")\n"
   ]
  },
  {
   "cell_type": "markdown",
   "id": "8f58f0d3-89a0-43a4-bac0-a72d40d5ad6d",
   "metadata": {},
   "source": [
    "<a id=\"cell2\"></a>\n",
    "## 2. Extract and Read into Project\n",
    "We start by reading in the raw dataset. You should specify the file name as \"noaa-weather-sample-data/jfk_weather_sample.csv\".\n"
   ]
  },
  {
   "cell_type": "code",
   "execution_count": 49,
   "id": "b4fd51a3-ebd0-419f-8349-2da906aad2a9",
   "metadata": {},
   "outputs": [],
   "source": [
    "NOAAdf <-read.csv(\"noaa-weather-sample-data/jfk_weather_sample.csv\")"
   ]
  },
  {
   "cell_type": "markdown",
   "id": "a0d81664-40e0-4227-9f51-593bcae536a5",
   "metadata": {},
   "source": [
    "Next, display the first few rows of the dataframe.\n"
   ]
  },
  {
   "cell_type": "code",
   "execution_count": 50,
   "id": "ae35c31a-7965-4897-a06b-8d914dc8625d",
   "metadata": {},
   "outputs": [
    {
     "data": {
      "text/html": [
       "<table>\n",
       "<thead><tr><th scope=col>DATE</th><th scope=col>HOURLYDewPointTempF</th><th scope=col>HOURLYRelativeHumidity</th><th scope=col>HOURLYDRYBULBTEMPF</th><th scope=col>HOURLYWETBULBTEMPF</th><th scope=col>HOURLYPrecip</th><th scope=col>HOURLYWindSpeed</th><th scope=col>HOURLYSeaLevelPressure</th><th scope=col>HOURLYStationPressure</th></tr></thead>\n",
       "<tbody>\n",
       "\t<tr><td>2015-07-25T13:51:00Z</td><td>60                  </td><td>46                  </td><td>83                  </td><td>68                  </td><td>0.00                </td><td>13                  </td><td>30.01               </td><td>29.99               </td></tr>\n",
       "\t<tr><td>2016-11-18T23:51:00Z</td><td>34                  </td><td>48                  </td><td>53                  </td><td>44                  </td><td>0.00                </td><td> 6                  </td><td>30.05               </td><td>30.03               </td></tr>\n",
       "\t<tr><td>2013-01-06T08:51:00Z</td><td>33                  </td><td>89                  </td><td>36                  </td><td>35                  </td><td>0.00                </td><td>13                  </td><td>30.14               </td><td>30.12               </td></tr>\n",
       "\t<tr><td>2011-01-27T16:51:00Z</td><td>18                  </td><td>48                  </td><td>36                  </td><td>30                  </td><td>0.00                </td><td>14                  </td><td>29.82               </td><td>29.80               </td></tr>\n",
       "\t<tr><td>2015-01-03T12:16:00Z</td><td>27                  </td><td>61                  </td><td>39                  </td><td>34                  </td><td>T                   </td><td>11                  </td><td>   NA               </td><td>30.50               </td></tr>\n",
       "\t<tr><td>2013-02-15T20:51:00Z</td><td>35                  </td><td>79                  </td><td>41                  </td><td>38                  </td><td>0.00                </td><td> 6                  </td><td>29.94               </td><td>29.92               </td></tr>\n",
       "</tbody>\n",
       "</table>\n"
      ],
      "text/latex": [
       "\\begin{tabular}{r|lllllllll}\n",
       " DATE & HOURLYDewPointTempF & HOURLYRelativeHumidity & HOURLYDRYBULBTEMPF & HOURLYWETBULBTEMPF & HOURLYPrecip & HOURLYWindSpeed & HOURLYSeaLevelPressure & HOURLYStationPressure\\\\\n",
       "\\hline\n",
       "\t 2015-07-25T13:51:00Z & 60                   & 46                   & 83                   & 68                   & 0.00                 & 13                   & 30.01                & 29.99               \\\\\n",
       "\t 2016-11-18T23:51:00Z & 34                   & 48                   & 53                   & 44                   & 0.00                 &  6                   & 30.05                & 30.03               \\\\\n",
       "\t 2013-01-06T08:51:00Z & 33                   & 89                   & 36                   & 35                   & 0.00                 & 13                   & 30.14                & 30.12               \\\\\n",
       "\t 2011-01-27T16:51:00Z & 18                   & 48                   & 36                   & 30                   & 0.00                 & 14                   & 29.82                & 29.80               \\\\\n",
       "\t 2015-01-03T12:16:00Z & 27                   & 61                   & 39                   & 34                   & T                    & 11                   &    NA                & 30.50               \\\\\n",
       "\t 2013-02-15T20:51:00Z & 35                   & 79                   & 41                   & 38                   & 0.00                 &  6                   & 29.94                & 29.92               \\\\\n",
       "\\end{tabular}\n"
      ],
      "text/markdown": [
       "\n",
       "| DATE | HOURLYDewPointTempF | HOURLYRelativeHumidity | HOURLYDRYBULBTEMPF | HOURLYWETBULBTEMPF | HOURLYPrecip | HOURLYWindSpeed | HOURLYSeaLevelPressure | HOURLYStationPressure |\n",
       "|---|---|---|---|---|---|---|---|---|\n",
       "| 2015-07-25T13:51:00Z | 60                   | 46                   | 83                   | 68                   | 0.00                 | 13                   | 30.01                | 29.99                |\n",
       "| 2016-11-18T23:51:00Z | 34                   | 48                   | 53                   | 44                   | 0.00                 |  6                   | 30.05                | 30.03                |\n",
       "| 2013-01-06T08:51:00Z | 33                   | 89                   | 36                   | 35                   | 0.00                 | 13                   | 30.14                | 30.12                |\n",
       "| 2011-01-27T16:51:00Z | 18                   | 48                   | 36                   | 30                   | 0.00                 | 14                   | 29.82                | 29.80                |\n",
       "| 2015-01-03T12:16:00Z | 27                   | 61                   | 39                   | 34                   | T                    | 11                   |    NA                | 30.50                |\n",
       "| 2013-02-15T20:51:00Z | 35                   | 79                   | 41                   | 38                   | 0.00                 |  6                   | 29.94                | 29.92                |\n",
       "\n"
      ],
      "text/plain": [
       "  DATE                 HOURLYDewPointTempF HOURLYRelativeHumidity\n",
       "1 2015-07-25T13:51:00Z 60                  46                    \n",
       "2 2016-11-18T23:51:00Z 34                  48                    \n",
       "3 2013-01-06T08:51:00Z 33                  89                    \n",
       "4 2011-01-27T16:51:00Z 18                  48                    \n",
       "5 2015-01-03T12:16:00Z 27                  61                    \n",
       "6 2013-02-15T20:51:00Z 35                  79                    \n",
       "  HOURLYDRYBULBTEMPF HOURLYWETBULBTEMPF HOURLYPrecip HOURLYWindSpeed\n",
       "1 83                 68                 0.00         13             \n",
       "2 53                 44                 0.00          6             \n",
       "3 36                 35                 0.00         13             \n",
       "4 36                 30                 0.00         14             \n",
       "5 39                 34                 T            11             \n",
       "6 41                 38                 0.00          6             \n",
       "  HOURLYSeaLevelPressure HOURLYStationPressure\n",
       "1 30.01                  29.99                \n",
       "2 30.05                  30.03                \n",
       "3 30.14                  30.12                \n",
       "4 29.82                  29.80                \n",
       "5    NA                  30.50                \n",
       "6 29.94                  29.92                "
      ]
     },
     "metadata": {},
     "output_type": "display_data"
    }
   ],
   "source": [
    "head(NOAAdf)"
   ]
  },
  {
   "cell_type": "markdown",
   "id": "38528e1c-3062-48d2-ba31-c62135389060",
   "metadata": {},
   "source": [
    "Also, take a `glimpse` of the dataset to see the different column data types and make sure it is the correct subset dataset with about 5700 rows and 9 columns.\n"
   ]
  },
  {
   "cell_type": "code",
   "execution_count": 51,
   "id": "862582ba-e2eb-4b12-ad26-422477c88147",
   "metadata": {},
   "outputs": [
    {
     "name": "stdout",
     "output_type": "stream",
     "text": [
      "Rows: 5,727\n",
      "Columns: 9\n",
      "$ DATE                   <fct> 2015-07-25T13:51:00Z, 2016-11-18T23:51:00Z, 201…\n",
      "$ HOURLYDewPointTempF    <fct> 60, 34, 33, 18, 27, 35, 4, 14, 51, 71, 76, 19, …\n",
      "$ HOURLYRelativeHumidity <int> 46, 48, 89, 48, 61, 79, 51, 65, 90, 94, 79, 37,…\n",
      "$ HOURLYDRYBULBTEMPF     <int> 83, 53, 36, 36, 39, 41, 19, 24, 54, 73, 83, 44,…\n",
      "$ HOURLYWETBULBTEMPF     <int> 68, 44, 35, 30, 34, 38, 15, 21, 52, 72, 78, 35,…\n",
      "$ HOURLYPrecip           <fct> 0.00, 0.00, 0.00, 0.00, T, 0.00, 0.00, 0.00, 0.…\n",
      "$ HOURLYWindSpeed        <int> 13, 6, 13, 14, 11, 6, 0, 11, 11, 5, 21, 7, 17, …\n",
      "$ HOURLYSeaLevelPressure <dbl> 30.01, 30.05, 30.14, 29.82, NA, 29.94, 30.42, 3…\n",
      "$ HOURLYStationPressure  <dbl> 29.99, 30.03, 30.12, 29.80, 30.50, 29.92, 30.40…\n"
     ]
    }
   ],
   "source": [
    "glimpse(NOAAdf)"
   ]
  },
  {
   "cell_type": "markdown",
   "id": "77c373ec-ed95-497a-99ae-07fe4313f5d6",
   "metadata": {},
   "source": [
    "<a id=\"cell3\"></a>\n",
    "## 3. Select Subset of Columns\n",
    "\n",
    "The end goal of this project will be to predict `HOURLYprecip` (precipitation) using a few other variables. Before you can do this, you first need to preprocess the dataset. Section 3 to section 6 focuses on preprocessing.\n",
    "\n",
    "The first step in preprocessing is to select a subset of data columns and inspect the column types.\n",
    "\n",
    "The key columns that we will explore in this project are:\n",
    "- HOURLYRelativeHumidity\n",
    "- HOURLYDRYBULBTEMPF\n",
    "- HOURLYPrecip\n",
    "- HOURLYWindSpeed\n",
    "- HOURLYStationPressure\n",
    "\n",
    "Data Glossary:\n",
    "- 'HOURLYRelativeHumidity' is the relative humidity given to the nearest whole percentage.\n",
    "- 'HOURLYDRYBULBTEMPF' is the dry-bulb temperature and is commonly used as the standard air temperature reported. It is given here in whole degrees Fahrenheit.\n",
    "- 'HOURLYPrecip' is the amount of precipitation in inches to hundredths over the past hour. For certain automated stations, precipitation will be reported at sub-hourly intervals (e.g. every 15 or 20 minutes) as an accumulated amount of all precipitation within the preceding hour. A “T” indicates a trace amount of precipitation.\n",
    "- 'HOURLYWindSpeed' is the speed of the wind at the time of observation given in miles per hour (mph).\n",
    "- 'HOURLYStationPressure' is the atmospheric pressure observed at the station during the time of observation. Given in inches of Mercury (in Hg).\n",
    "\n",
    "`Select` those five columns and store the modified dataframe as a new variable.\n"
   ]
  },
  {
   "cell_type": "code",
   "execution_count": 52,
   "id": "31bbf3d9-06be-4354-8519-7013a2312c4e",
   "metadata": {},
   "outputs": [],
   "source": [
    "subsetNOAAdf <- select(NOAAdf, c(\"HOURLYRelativeHumidity\",\n",
    "\"HOURLYDRYBULBTEMPF\",\n",
    "\"HOURLYPrecip\",\n",
    "\"HOURLYWindSpeed\",\n",
    "\"HOURLYStationPressure\"))\n"
   ]
  },
  {
   "cell_type": "markdown",
   "id": "7183d5b8-466f-425a-8b61-f72176b737d7",
   "metadata": {},
   "source": [
    "Show the first 10 rows of this new dataframe.\n"
   ]
  },
  {
   "cell_type": "code",
   "execution_count": 53,
   "id": "755cb22d-2657-4791-b45d-4cf3b95b6350",
   "metadata": {},
   "outputs": [
    {
     "data": {
      "text/html": [
       "<table>\n",
       "<thead><tr><th scope=col>HOURLYRelativeHumidity</th><th scope=col>HOURLYDRYBULBTEMPF</th><th scope=col>HOURLYPrecip</th><th scope=col>HOURLYWindSpeed</th><th scope=col>HOURLYStationPressure</th></tr></thead>\n",
       "<tbody>\n",
       "\t<tr><td>46   </td><td>83   </td><td>0.00 </td><td>13   </td><td>29.99</td></tr>\n",
       "\t<tr><td>48   </td><td>53   </td><td>0.00 </td><td> 6   </td><td>30.03</td></tr>\n",
       "\t<tr><td>89   </td><td>36   </td><td>0.00 </td><td>13   </td><td>30.12</td></tr>\n",
       "\t<tr><td>48   </td><td>36   </td><td>0.00 </td><td>14   </td><td>29.80</td></tr>\n",
       "\t<tr><td>61   </td><td>39   </td><td>T    </td><td>11   </td><td>30.50</td></tr>\n",
       "\t<tr><td>79   </td><td>41   </td><td>0.00 </td><td> 6   </td><td>29.92</td></tr>\n",
       "\t<tr><td>51   </td><td>19   </td><td>0.00 </td><td> 0   </td><td>30.40</td></tr>\n",
       "\t<tr><td>65   </td><td>24   </td><td>0.00 </td><td>11   </td><td>30.35</td></tr>\n",
       "\t<tr><td>90   </td><td>54   </td><td>0.06 </td><td>11   </td><td>30.03</td></tr>\n",
       "\t<tr><td>94   </td><td>73   </td><td>NA   </td><td> 5   </td><td>29.91</td></tr>\n",
       "</tbody>\n",
       "</table>\n"
      ],
      "text/latex": [
       "\\begin{tabular}{r|lllll}\n",
       " HOURLYRelativeHumidity & HOURLYDRYBULBTEMPF & HOURLYPrecip & HOURLYWindSpeed & HOURLYStationPressure\\\\\n",
       "\\hline\n",
       "\t 46    & 83    & 0.00  & 13    & 29.99\\\\\n",
       "\t 48    & 53    & 0.00  &  6    & 30.03\\\\\n",
       "\t 89    & 36    & 0.00  & 13    & 30.12\\\\\n",
       "\t 48    & 36    & 0.00  & 14    & 29.80\\\\\n",
       "\t 61    & 39    & T     & 11    & 30.50\\\\\n",
       "\t 79    & 41    & 0.00  &  6    & 29.92\\\\\n",
       "\t 51    & 19    & 0.00  &  0    & 30.40\\\\\n",
       "\t 65    & 24    & 0.00  & 11    & 30.35\\\\\n",
       "\t 90    & 54    & 0.06  & 11    & 30.03\\\\\n",
       "\t 94    & 73    & NA    &  5    & 29.91\\\\\n",
       "\\end{tabular}\n"
      ],
      "text/markdown": [
       "\n",
       "| HOURLYRelativeHumidity | HOURLYDRYBULBTEMPF | HOURLYPrecip | HOURLYWindSpeed | HOURLYStationPressure |\n",
       "|---|---|---|---|---|\n",
       "| 46    | 83    | 0.00  | 13    | 29.99 |\n",
       "| 48    | 53    | 0.00  |  6    | 30.03 |\n",
       "| 89    | 36    | 0.00  | 13    | 30.12 |\n",
       "| 48    | 36    | 0.00  | 14    | 29.80 |\n",
       "| 61    | 39    | T     | 11    | 30.50 |\n",
       "| 79    | 41    | 0.00  |  6    | 29.92 |\n",
       "| 51    | 19    | 0.00  |  0    | 30.40 |\n",
       "| 65    | 24    | 0.00  | 11    | 30.35 |\n",
       "| 90    | 54    | 0.06  | 11    | 30.03 |\n",
       "| 94    | 73    | NA    |  5    | 29.91 |\n",
       "\n"
      ],
      "text/plain": [
       "   HOURLYRelativeHumidity HOURLYDRYBULBTEMPF HOURLYPrecip HOURLYWindSpeed\n",
       "1  46                     83                 0.00         13             \n",
       "2  48                     53                 0.00          6             \n",
       "3  89                     36                 0.00         13             \n",
       "4  48                     36                 0.00         14             \n",
       "5  61                     39                 T            11             \n",
       "6  79                     41                 0.00          6             \n",
       "7  51                     19                 0.00          0             \n",
       "8  65                     24                 0.00         11             \n",
       "9  90                     54                 0.06         11             \n",
       "10 94                     73                 NA            5             \n",
       "   HOURLYStationPressure\n",
       "1  29.99                \n",
       "2  30.03                \n",
       "3  30.12                \n",
       "4  29.80                \n",
       "5  30.50                \n",
       "6  29.92                \n",
       "7  30.40                \n",
       "8  30.35                \n",
       "9  30.03                \n",
       "10 29.91                "
      ]
     },
     "metadata": {},
     "output_type": "display_data"
    }
   ],
   "source": [
    "head(subsetNOAAdf,10)"
   ]
  },
  {
   "cell_type": "markdown",
   "id": "9fd5eb48-7e63-49ef-8284-df1d0979f0cc",
   "metadata": {},
   "source": [
    "<a id=\"cell4\"></a>\n",
    "## 4. Clean Up Columns\n",
    "\n",
    "From the dataframe preview above, we can see that the column `HOURLYPrecip` - which is the hourly measure of precipitation levels - contains both `NA` and `T` values. `T` specifies *trace amounts of precipitation* (meaning essentially no precipitation), while `NA` means *not available*, and is used to denote missing values. Additionally, some values also have \"s\" at the end of them, indicating that the precipitation was snow. \n",
    "\n",
    "Inspect the unique values present in the column `HOURLYPrecip` (with `unique(dataframe$column)`) to see these values.\n"
   ]
  },
  {
   "cell_type": "code",
   "execution_count": 54,
   "id": "f59a4cff-2305-449d-bd17-95262e810d20",
   "metadata": {},
   "outputs": [
    {
     "data": {
      "text/html": [
       "<ol class=list-inline>\n",
       "\t<li>0.00</li>\n",
       "\t<li>T</li>\n",
       "\t<li>0.06</li>\n",
       "\t<li>&lt;NA&gt;</li>\n",
       "\t<li>0.03</li>\n",
       "\t<li>0.02</li>\n",
       "\t<li>0.08</li>\n",
       "\t<li>0.01</li>\n",
       "\t<li>0.07</li>\n",
       "\t<li>0.16</li>\n",
       "\t<li>0.09</li>\n",
       "\t<li>0.22</li>\n",
       "\t<li>0.02s</li>\n",
       "\t<li>0.24</li>\n",
       "\t<li>0.18</li>\n",
       "\t<li>0.05</li>\n",
       "\t<li>0.04</li>\n",
       "\t<li>0.09s</li>\n",
       "\t<li>0.11</li>\n",
       "\t<li>0.14</li>\n",
       "\t<li>0.25</li>\n",
       "\t<li>0.10</li>\n",
       "\t<li>0.01s</li>\n",
       "\t<li>0.58</li>\n",
       "\t<li>0.12</li>\n",
       "\t<li>0.13</li>\n",
       "\t<li>0.46</li>\n",
       "\t<li>1.07</li>\n",
       "\t<li>1.19</li>\n",
       "\t<li>0.34</li>\n",
       "\t<li>0.20</li>\n",
       "\t<li>0.36s</li>\n",
       "\t<li>0.42</li>\n",
       "\t<li>0.17</li>\n",
       "\t<li>0.27</li>\n",
       "\t<li>0.35</li>\n",
       "\t<li>0.31</li>\n",
       "\t<li>0.33</li>\n",
       "\t<li>0.23</li>\n",
       "\t<li>0.26</li>\n",
       "\t<li>0.28</li>\n",
       "\t<li>0.75</li>\n",
       "\t<li>0.19</li>\n",
       "\t<li>0.36</li>\n",
       "\t<li>0.03s</li>\n",
       "\t<li>0.07s</li>\n",
       "\t<li>0.54</li>\n",
       "\t<li>0.59</li>\n",
       "\t<li>0.21</li>\n",
       "</ol>\n",
       "\n",
       "<details>\n",
       "\t<summary style=display:list-item;cursor:pointer>\n",
       "\t\t<strong>Levels</strong>:\n",
       "\t</summary>\n",
       "\t<ol class=list-inline>\n",
       "\t\t<li>'0.00'</li>\n",
       "\t\t<li>'0.01'</li>\n",
       "\t\t<li>'0.01s'</li>\n",
       "\t\t<li>'0.02'</li>\n",
       "\t\t<li>'0.02s'</li>\n",
       "\t\t<li>'0.03'</li>\n",
       "\t\t<li>'0.03s'</li>\n",
       "\t\t<li>'0.04'</li>\n",
       "\t\t<li>'0.05'</li>\n",
       "\t\t<li>'0.06'</li>\n",
       "\t\t<li>'0.07'</li>\n",
       "\t\t<li>'0.07s'</li>\n",
       "\t\t<li>'0.08'</li>\n",
       "\t\t<li>'0.09'</li>\n",
       "\t\t<li>'0.09s'</li>\n",
       "\t\t<li>'0.10'</li>\n",
       "\t\t<li>'0.11'</li>\n",
       "\t\t<li>'0.12'</li>\n",
       "\t\t<li>'0.13'</li>\n",
       "\t\t<li>'0.14'</li>\n",
       "\t\t<li>'0.16'</li>\n",
       "\t\t<li>'0.17'</li>\n",
       "\t\t<li>'0.18'</li>\n",
       "\t\t<li>'0.19'</li>\n",
       "\t\t<li>'0.20'</li>\n",
       "\t\t<li>'0.21'</li>\n",
       "\t\t<li>'0.22'</li>\n",
       "\t\t<li>'0.23'</li>\n",
       "\t\t<li>'0.24'</li>\n",
       "\t\t<li>'0.25'</li>\n",
       "\t\t<li>'0.26'</li>\n",
       "\t\t<li>'0.27'</li>\n",
       "\t\t<li>'0.28'</li>\n",
       "\t\t<li>'0.31'</li>\n",
       "\t\t<li>'0.33'</li>\n",
       "\t\t<li>'0.34'</li>\n",
       "\t\t<li>'0.35'</li>\n",
       "\t\t<li>'0.36'</li>\n",
       "\t\t<li>'0.36s'</li>\n",
       "\t\t<li>'0.42'</li>\n",
       "\t\t<li>'0.46'</li>\n",
       "\t\t<li>'0.54'</li>\n",
       "\t\t<li>'0.58'</li>\n",
       "\t\t<li>'0.59'</li>\n",
       "\t\t<li>'0.75'</li>\n",
       "\t\t<li>'1.07'</li>\n",
       "\t\t<li>'1.19'</li>\n",
       "\t\t<li>'T'</li>\n",
       "\t</ol>\n",
       "</details>"
      ],
      "text/latex": [
       "\\begin{enumerate*}\n",
       "\\item 0.00\n",
       "\\item T\n",
       "\\item 0.06\n",
       "\\item <NA>\n",
       "\\item 0.03\n",
       "\\item 0.02\n",
       "\\item 0.08\n",
       "\\item 0.01\n",
       "\\item 0.07\n",
       "\\item 0.16\n",
       "\\item 0.09\n",
       "\\item 0.22\n",
       "\\item 0.02s\n",
       "\\item 0.24\n",
       "\\item 0.18\n",
       "\\item 0.05\n",
       "\\item 0.04\n",
       "\\item 0.09s\n",
       "\\item 0.11\n",
       "\\item 0.14\n",
       "\\item 0.25\n",
       "\\item 0.10\n",
       "\\item 0.01s\n",
       "\\item 0.58\n",
       "\\item 0.12\n",
       "\\item 0.13\n",
       "\\item 0.46\n",
       "\\item 1.07\n",
       "\\item 1.19\n",
       "\\item 0.34\n",
       "\\item 0.20\n",
       "\\item 0.36s\n",
       "\\item 0.42\n",
       "\\item 0.17\n",
       "\\item 0.27\n",
       "\\item 0.35\n",
       "\\item 0.31\n",
       "\\item 0.33\n",
       "\\item 0.23\n",
       "\\item 0.26\n",
       "\\item 0.28\n",
       "\\item 0.75\n",
       "\\item 0.19\n",
       "\\item 0.36\n",
       "\\item 0.03s\n",
       "\\item 0.07s\n",
       "\\item 0.54\n",
       "\\item 0.59\n",
       "\\item 0.21\n",
       "\\end{enumerate*}\n",
       "\n",
       "\\emph{Levels}: \\begin{enumerate*}\n",
       "\\item '0.00'\n",
       "\\item '0.01'\n",
       "\\item '0.01s'\n",
       "\\item '0.02'\n",
       "\\item '0.02s'\n",
       "\\item '0.03'\n",
       "\\item '0.03s'\n",
       "\\item '0.04'\n",
       "\\item '0.05'\n",
       "\\item '0.06'\n",
       "\\item '0.07'\n",
       "\\item '0.07s'\n",
       "\\item '0.08'\n",
       "\\item '0.09'\n",
       "\\item '0.09s'\n",
       "\\item '0.10'\n",
       "\\item '0.11'\n",
       "\\item '0.12'\n",
       "\\item '0.13'\n",
       "\\item '0.14'\n",
       "\\item '0.16'\n",
       "\\item '0.17'\n",
       "\\item '0.18'\n",
       "\\item '0.19'\n",
       "\\item '0.20'\n",
       "\\item '0.21'\n",
       "\\item '0.22'\n",
       "\\item '0.23'\n",
       "\\item '0.24'\n",
       "\\item '0.25'\n",
       "\\item '0.26'\n",
       "\\item '0.27'\n",
       "\\item '0.28'\n",
       "\\item '0.31'\n",
       "\\item '0.33'\n",
       "\\item '0.34'\n",
       "\\item '0.35'\n",
       "\\item '0.36'\n",
       "\\item '0.36s'\n",
       "\\item '0.42'\n",
       "\\item '0.46'\n",
       "\\item '0.54'\n",
       "\\item '0.58'\n",
       "\\item '0.59'\n",
       "\\item '0.75'\n",
       "\\item '1.07'\n",
       "\\item '1.19'\n",
       "\\item 'T'\n",
       "\\end{enumerate*}\n"
      ],
      "text/markdown": [
       "1. 0.00\n",
       "2. T\n",
       "3. 0.06\n",
       "4. &lt;NA&gt;\n",
       "5. 0.03\n",
       "6. 0.02\n",
       "7. 0.08\n",
       "8. 0.01\n",
       "9. 0.07\n",
       "10. 0.16\n",
       "11. 0.09\n",
       "12. 0.22\n",
       "13. 0.02s\n",
       "14. 0.24\n",
       "15. 0.18\n",
       "16. 0.05\n",
       "17. 0.04\n",
       "18. 0.09s\n",
       "19. 0.11\n",
       "20. 0.14\n",
       "21. 0.25\n",
       "22. 0.10\n",
       "23. 0.01s\n",
       "24. 0.58\n",
       "25. 0.12\n",
       "26. 0.13\n",
       "27. 0.46\n",
       "28. 1.07\n",
       "29. 1.19\n",
       "30. 0.34\n",
       "31. 0.20\n",
       "32. 0.36s\n",
       "33. 0.42\n",
       "34. 0.17\n",
       "35. 0.27\n",
       "36. 0.35\n",
       "37. 0.31\n",
       "38. 0.33\n",
       "39. 0.23\n",
       "40. 0.26\n",
       "41. 0.28\n",
       "42. 0.75\n",
       "43. 0.19\n",
       "44. 0.36\n",
       "45. 0.03s\n",
       "46. 0.07s\n",
       "47. 0.54\n",
       "48. 0.59\n",
       "49. 0.21\n",
       "\n",
       "\n",
       "\n",
       "**Levels**: 1. '0.00'\n",
       "2. '0.01'\n",
       "3. '0.01s'\n",
       "4. '0.02'\n",
       "5. '0.02s'\n",
       "6. '0.03'\n",
       "7. '0.03s'\n",
       "8. '0.04'\n",
       "9. '0.05'\n",
       "10. '0.06'\n",
       "11. '0.07'\n",
       "12. '0.07s'\n",
       "13. '0.08'\n",
       "14. '0.09'\n",
       "15. '0.09s'\n",
       "16. '0.10'\n",
       "17. '0.11'\n",
       "18. '0.12'\n",
       "19. '0.13'\n",
       "20. '0.14'\n",
       "21. '0.16'\n",
       "22. '0.17'\n",
       "23. '0.18'\n",
       "24. '0.19'\n",
       "25. '0.20'\n",
       "26. '0.21'\n",
       "27. '0.22'\n",
       "28. '0.23'\n",
       "29. '0.24'\n",
       "30. '0.25'\n",
       "31. '0.26'\n",
       "32. '0.27'\n",
       "33. '0.28'\n",
       "34. '0.31'\n",
       "35. '0.33'\n",
       "36. '0.34'\n",
       "37. '0.35'\n",
       "38. '0.36'\n",
       "39. '0.36s'\n",
       "40. '0.42'\n",
       "41. '0.46'\n",
       "42. '0.54'\n",
       "43. '0.58'\n",
       "44. '0.59'\n",
       "45. '0.75'\n",
       "46. '1.07'\n",
       "47. '1.19'\n",
       "48. 'T'\n",
       "\n",
       "\n"
      ],
      "text/plain": [
       " [1] 0.00  T     0.06  <NA>  0.03  0.02  0.08  0.01  0.07  0.16  0.09  0.22 \n",
       "[13] 0.02s 0.24  0.18  0.05  0.04  0.09s 0.11  0.14  0.25  0.10  0.01s 0.58 \n",
       "[25] 0.12  0.13  0.46  1.07  1.19  0.34  0.20  0.36s 0.42  0.17  0.27  0.35 \n",
       "[37] 0.31  0.33  0.23  0.26  0.28  0.75  0.19  0.36  0.03s 0.07s 0.54  0.59 \n",
       "[49] 0.21 \n",
       "48 Levels: 0.00 0.01 0.01s 0.02 0.02s 0.03 0.03s 0.04 0.05 0.06 0.07 ... T"
      ]
     },
     "metadata": {},
     "output_type": "display_data"
    }
   ],
   "source": [
    "unique(subsetNOAAdf$HOURLYPrecip)"
   ]
  },
  {
   "cell_type": "markdown",
   "id": "4fe091c5-4947-48cf-a1c1-1a767eb2bc80",
   "metadata": {},
   "source": [
    "Having characters in values (like the \"T\" and \"s\" that you see in the unique values) will cause problems when you create a model because values for precipitation should be numerical. So you need to fix these values that have characters. \n",
    "\n",
    "Now, for the column `HOURLYPrecip`:\n",
    "1. Replace all the `T` values with \"0.0\" and \n",
    "2. Remove \"s\" from values like \"0.02s\". In R, you can use the method `str_remove(column, pattern = \"s$\")` to remove the character \"s\" from the end of values. The \"$\" tells R to match to the end of values. The `pattern` is a regex pattern. Look at [here](https://www.rdocumentation.org/packages/stringi/versions/1.5.3/topics/about_search_regex?utm_medium=Exinfluencer&utm_source=Exinfluencer&utm_content=000026UJ&utm_term=10006555&utm_id=NA-SkillsNetwork-Channel-SkillsNetworkCoursesIBMDA0151ENSkillsNetwork926-2022-01-01) for more information about regex and matching to strings in R.\n",
    "\n",
    "Remember that you can use `tidyverse`'s  `mutate()` to update columns.\n",
    "\n",
    "You can check your work by checking if unique values of `HOURLYPrecip` still contain any `T` or `s`. Store the modified dataframe as a new variable.\n"
   ]
  },
  {
   "cell_type": "code",
   "execution_count": 55,
   "id": "fea7aa7c-a87f-4873-b9ab-ab5968df6610",
   "metadata": {},
   "outputs": [
    {
     "data": {
      "text/html": [
       "<ol class=list-inline>\n",
       "\t<li>'0.00'</li>\n",
       "\t<li>'0.0'</li>\n",
       "\t<li>'0.06'</li>\n",
       "\t<li>NA</li>\n",
       "\t<li>'0.03'</li>\n",
       "\t<li>'0.02'</li>\n",
       "\t<li>'0.08'</li>\n",
       "\t<li>'0.01'</li>\n",
       "\t<li>'0.07'</li>\n",
       "\t<li>'0.16'</li>\n",
       "\t<li>'0.09'</li>\n",
       "\t<li>'0.22'</li>\n",
       "\t<li>'0.24'</li>\n",
       "\t<li>'0.18'</li>\n",
       "\t<li>'0.05'</li>\n",
       "\t<li>'0.04'</li>\n",
       "\t<li>'0.11'</li>\n",
       "\t<li>'0.14'</li>\n",
       "\t<li>'0.25'</li>\n",
       "\t<li>'0.10'</li>\n",
       "\t<li>'0.58'</li>\n",
       "\t<li>'0.12'</li>\n",
       "\t<li>'0.13'</li>\n",
       "\t<li>'0.46'</li>\n",
       "\t<li>'1.07'</li>\n",
       "\t<li>'1.19'</li>\n",
       "\t<li>'0.34'</li>\n",
       "\t<li>'0.20'</li>\n",
       "\t<li>'0.36'</li>\n",
       "\t<li>'0.42'</li>\n",
       "\t<li>'0.17'</li>\n",
       "\t<li>'0.27'</li>\n",
       "\t<li>'0.35'</li>\n",
       "\t<li>'0.31'</li>\n",
       "\t<li>'0.33'</li>\n",
       "\t<li>'0.23'</li>\n",
       "\t<li>'0.26'</li>\n",
       "\t<li>'0.28'</li>\n",
       "\t<li>'0.75'</li>\n",
       "\t<li>'0.19'</li>\n",
       "\t<li>'0.54'</li>\n",
       "\t<li>'0.59'</li>\n",
       "\t<li>'0.21'</li>\n",
       "</ol>\n"
      ],
      "text/latex": [
       "\\begin{enumerate*}\n",
       "\\item '0.00'\n",
       "\\item '0.0'\n",
       "\\item '0.06'\n",
       "\\item NA\n",
       "\\item '0.03'\n",
       "\\item '0.02'\n",
       "\\item '0.08'\n",
       "\\item '0.01'\n",
       "\\item '0.07'\n",
       "\\item '0.16'\n",
       "\\item '0.09'\n",
       "\\item '0.22'\n",
       "\\item '0.24'\n",
       "\\item '0.18'\n",
       "\\item '0.05'\n",
       "\\item '0.04'\n",
       "\\item '0.11'\n",
       "\\item '0.14'\n",
       "\\item '0.25'\n",
       "\\item '0.10'\n",
       "\\item '0.58'\n",
       "\\item '0.12'\n",
       "\\item '0.13'\n",
       "\\item '0.46'\n",
       "\\item '1.07'\n",
       "\\item '1.19'\n",
       "\\item '0.34'\n",
       "\\item '0.20'\n",
       "\\item '0.36'\n",
       "\\item '0.42'\n",
       "\\item '0.17'\n",
       "\\item '0.27'\n",
       "\\item '0.35'\n",
       "\\item '0.31'\n",
       "\\item '0.33'\n",
       "\\item '0.23'\n",
       "\\item '0.26'\n",
       "\\item '0.28'\n",
       "\\item '0.75'\n",
       "\\item '0.19'\n",
       "\\item '0.54'\n",
       "\\item '0.59'\n",
       "\\item '0.21'\n",
       "\\end{enumerate*}\n"
      ],
      "text/markdown": [
       "1. '0.00'\n",
       "2. '0.0'\n",
       "3. '0.06'\n",
       "4. NA\n",
       "5. '0.03'\n",
       "6. '0.02'\n",
       "7. '0.08'\n",
       "8. '0.01'\n",
       "9. '0.07'\n",
       "10. '0.16'\n",
       "11. '0.09'\n",
       "12. '0.22'\n",
       "13. '0.24'\n",
       "14. '0.18'\n",
       "15. '0.05'\n",
       "16. '0.04'\n",
       "17. '0.11'\n",
       "18. '0.14'\n",
       "19. '0.25'\n",
       "20. '0.10'\n",
       "21. '0.58'\n",
       "22. '0.12'\n",
       "23. '0.13'\n",
       "24. '0.46'\n",
       "25. '1.07'\n",
       "26. '1.19'\n",
       "27. '0.34'\n",
       "28. '0.20'\n",
       "29. '0.36'\n",
       "30. '0.42'\n",
       "31. '0.17'\n",
       "32. '0.27'\n",
       "33. '0.35'\n",
       "34. '0.31'\n",
       "35. '0.33'\n",
       "36. '0.23'\n",
       "37. '0.26'\n",
       "38. '0.28'\n",
       "39. '0.75'\n",
       "40. '0.19'\n",
       "41. '0.54'\n",
       "42. '0.59'\n",
       "43. '0.21'\n",
       "\n",
       "\n"
      ],
      "text/plain": [
       " [1] \"0.00\" \"0.0\"  \"0.06\" NA     \"0.03\" \"0.02\" \"0.08\" \"0.01\" \"0.07\" \"0.16\"\n",
       "[11] \"0.09\" \"0.22\" \"0.24\" \"0.18\" \"0.05\" \"0.04\" \"0.11\" \"0.14\" \"0.25\" \"0.10\"\n",
       "[21] \"0.58\" \"0.12\" \"0.13\" \"0.46\" \"1.07\" \"1.19\" \"0.34\" \"0.20\" \"0.36\" \"0.42\"\n",
       "[31] \"0.17\" \"0.27\" \"0.35\" \"0.31\" \"0.33\" \"0.23\" \"0.26\" \"0.28\" \"0.75\" \"0.19\"\n",
       "[41] \"0.54\" \"0.59\" \"0.21\""
      ]
     },
     "metadata": {},
     "output_type": "display_data"
    }
   ],
   "source": [
    "subset2NOAAdf <- subsetNOAAdf %>%\n",
    " mutate(HOURLYPrecip = str_replace_all(HOURLYPrecip, \"T\", \"0.0\"))\n",
    "\n",
    "subset3NOAAdf <- subset2NOAAdf %>%\n",
    " mutate(HOURLYPrecip = str_remove(HOURLYPrecip, pattern = \"s$\"))\n",
    "\n",
    "unique(subset3NOAAdf$HOURLYPrecip)\n"
   ]
  },
  {
   "cell_type": "markdown",
   "id": "3871d83e-85d0-41a3-8cdc-f2ca67296e01",
   "metadata": {},
   "source": [
    "<a id=\"cell5\"></a>\n",
    "## 5. Convert Columns to Numerical Types\n",
    "Now that you have removed the characters in the `HOURLYPrecip` column, you can safely covert the column to a numeric type.\n",
    "\n",
    "First, check the types of the columns. You will notice that all are `dbl` (double or numeric) except for `HOURLYPrecip`, which is `chr` (character or string). Use the `glimpse` function from Tidyverse.\n"
   ]
  },
  {
   "cell_type": "code",
   "execution_count": 56,
   "id": "c22c5f0d-2889-4674-85b9-730eef19a333",
   "metadata": {},
   "outputs": [
    {
     "name": "stdout",
     "output_type": "stream",
     "text": [
      "Rows: 5,727\n",
      "Columns: 5\n",
      "$ HOURLYRelativeHumidity <int> 46, 48, 89, 48, 61, 79, 51, 65, 90, 94, 79, 37,…\n",
      "$ HOURLYDRYBULBTEMPF     <int> 83, 53, 36, 36, 39, 41, 19, 24, 54, 73, 83, 44,…\n",
      "$ HOURLYPrecip           <chr> \"0.00\", \"0.00\", \"0.00\", \"0.00\", \"0.0\", \"0.00\", …\n",
      "$ HOURLYWindSpeed        <int> 13, 6, 13, 14, 11, 6, 0, 11, 11, 5, 21, 7, 17, …\n",
      "$ HOURLYStationPressure  <dbl> 29.99, 30.03, 30.12, 29.80, 30.50, 29.92, 30.40…\n"
     ]
    }
   ],
   "source": [
    "glimpse(subset3NOAAdf)"
   ]
  },
  {
   "cell_type": "markdown",
   "id": "77024bac-9121-44cd-9598-76cfde8f0e71",
   "metadata": {},
   "source": [
    "Convert `HOURLYPrecip` to the `numeric` type and store the cleaned dataframe as a new variable.\n"
   ]
  },
  {
   "cell_type": "code",
   "execution_count": 57,
   "id": "3840829e-0ecd-40b3-8f38-2dd21851129c",
   "metadata": {},
   "outputs": [
    {
     "name": "stdout",
     "output_type": "stream",
     "text": [
      "Rows: 5,727\n",
      "Columns: 5\n",
      "$ HOURLYRelativeHumidity <int> 46, 48, 89, 48, 61, 79, 51, 65, 90, 94, 79, 37,…\n",
      "$ HOURLYDRYBULBTEMPF     <int> 83, 53, 36, 36, 39, 41, 19, 24, 54, 73, 83, 44,…\n",
      "$ HOURLYPrecip           <dbl> 0.00, 0.00, 0.00, 0.00, 0.00, 0.00, 0.00, 0.00,…\n",
      "$ HOURLYWindSpeed        <int> 13, 6, 13, 14, 11, 6, 0, 11, 11, 5, 21, 7, 17, …\n",
      "$ HOURLYStationPressure  <dbl> 29.99, 30.03, 30.12, 29.80, 30.50, 29.92, 30.40…\n"
     ]
    }
   ],
   "source": [
    "subset3NOAAdf$HOURLYPrecip <- (as.numeric(subset3NOAAdf$HOURLYPrecip))\n",
    "glimpse(subset3NOAAdf)\n",
    "\n"
   ]
  },
  {
   "cell_type": "markdown",
   "id": "1dd195eb-b8ec-4eaa-a65b-03d786236aff",
   "metadata": {},
   "source": [
    "We can now see that all fields have numerical data type.\n"
   ]
  },
  {
   "cell_type": "code",
   "execution_count": 58,
   "id": "2ed9eddd-5fae-4b56-a9ff-2efbe39b69d8",
   "metadata": {},
   "outputs": [
    {
     "name": "stdout",
     "output_type": "stream",
     "text": [
      "Rows: 5,727\n",
      "Columns: 5\n",
      "$ HOURLYRelativeHumidity <int> 46, 48, 89, 48, 61, 79, 51, 65, 90, 94, 79, 37,…\n",
      "$ HOURLYDRYBULBTEMPF     <int> 83, 53, 36, 36, 39, 41, 19, 24, 54, 73, 83, 44,…\n",
      "$ HOURLYPrecip           <dbl> 0.00, 0.00, 0.00, 0.00, 0.00, 0.00, 0.00, 0.00,…\n",
      "$ HOURLYWindSpeed        <int> 13, 6, 13, 14, 11, 6, 0, 11, 11, 5, 21, 7, 17, …\n",
      "$ HOURLYStationPressure  <dbl> 29.99, 30.03, 30.12, 29.80, 30.50, 29.92, 30.40…\n"
     ]
    }
   ],
   "source": [
    "glimpse(subset3NOAAdf)\n"
   ]
  },
  {
   "cell_type": "markdown",
   "id": "b79683f5-f011-47f1-b8ee-a64ceef62099",
   "metadata": {},
   "source": [
    "<a id=\"cell6\"></a>\n",
    "## 6. Rename Columns\n",
    "Let's rename the following columns as:\n",
    "- 'HOURLYRelativeHumidity' to 'relative_humidity'\n",
    "- 'HOURLYDRYBULBTEMPF' to 'dry_bulb_temp_f'\n",
    "- 'HOURLYPrecip' to 'precip'\n",
    "- 'HOURLYWindSpeed' to 'wind_speed'\n",
    "- 'HOURLYStationPressure' to 'station_pressure'\n",
    "\n",
    "You can use `dplyr::rename()`. Then, store the final dataframe as a new variable.\n"
   ]
  },
  {
   "cell_type": "code",
   "execution_count": 59,
   "id": "336d28c4-22b4-41e3-9458-5130dbe31290",
   "metadata": {},
   "outputs": [
    {
     "name": "stdout",
     "output_type": "stream",
     "text": [
      "Rows: 5,727\n",
      "Columns: 5\n",
      "$ relative_humidity <int> 46, 48, 89, 48, 61, 79, 51, 65, 90, 94, 79, 37, 72, …\n",
      "$ dry_bulb_temp_f   <int> 83, 53, 36, 36, 39, 41, 19, 24, 54, 73, 83, 44, 57, …\n",
      "$ precip            <dbl> 0.00, 0.00, 0.00, 0.00, 0.00, 0.00, 0.00, 0.00, 0.06…\n",
      "$ wind_speed        <int> 13, 6, 13, 14, 11, 6, 0, 11, 11, 5, 21, 7, 17, 8, 3,…\n",
      "$ station_pressure  <dbl> 29.99, 30.03, 30.12, 29.80, 30.50, 29.92, 30.40, 30.…\n"
     ]
    }
   ],
   "source": [
    "subset4NOAAdf <- subset3NOAAdf %>% \n",
    "rename('relative_humidity' = 'HOURLYRelativeHumidity',\n",
    "'dry_bulb_temp_f' = 'HOURLYDRYBULBTEMPF',\n",
    "'precip' = 'HOURLYPrecip',\n",
    "'wind_speed' = 'HOURLYWindSpeed',\n",
    "'station_pressure' = 'HOURLYStationPressure')\n",
    "\n",
    "glimpse(subset4NOAAdf)\n"
   ]
  },
  {
   "cell_type": "markdown",
   "id": "41e5a06d-33a3-4669-bcfe-ee81bcf0b82d",
   "metadata": {},
   "source": [
    "<a id=\"cell7\"></a>\n",
    "## 7. Exploratory Data Analysis\n",
    "Now that you have finished preprocessing the dataset, you can can start exploring the columns more.\n",
    "\n",
    "First, split the data into a training and testing set. Splitting a dataset is done randomly, so to have reproducible results set the seed = 1234. Also, use 80% of the data for training.\n"
   ]
  },
  {
   "cell_type": "code",
   "execution_count": 60,
   "id": "c94054f3-6c5b-4de3-b9f2-779ab1b50eca",
   "metadata": {},
   "outputs": [],
   "source": [
    "set.seed(1234)\n",
    "train_NOAA <- initial_split(subset4NOAAdf, prop = 0.8)\n",
    "train_set <- training(train_NOAA)\n",
    "test_set <- testing(train_NOAA)"
   ]
  },
  {
   "cell_type": "markdown",
   "id": "2c99f971-ac36-4bf0-82ae-68dc120b7c85",
   "metadata": {},
   "source": [
    "Next, looking at just the **training set**, plot histograms or box plots of the variables (`relative_humidity`, `dry_bulb_temp_f`, `precip`, `wind_speed`,  `station_pressure`) for an intial look of their distributions using `tidyverse`'s `ggplot`. Leave the testing set as is because it is good practice to not see the testing set until evaluating the final model.\n"
   ]
  },
  {
   "cell_type": "code",
   "execution_count": 61,
   "id": "5356136e-d8e8-4316-9cc1-2357fc372a0e",
   "metadata": {},
   "outputs": [
    {
     "name": "stderr",
     "output_type": "stream",
     "text": [
      "`stat_bin()` using `bins = 30`. Pick better value with `binwidth`.Warning message:\n",
      "“Removed 114 rows containing non-finite values (`stat_bin()`).”"
     ]
    },
    {
     "data": {
      "image/png": "[encoded data removed]",
      "text/plain": [
       "plot without title"
      ]
     },
     "metadata": {},
     "output_type": "display_data"
    }
   ],
   "source": [
    " \n",
    " \n",
    "ggplot(train_set, aes(x = relative_humidity))+\n",
    "geom_histogram(color = \" darkgreen\", fill = \"lightgreen\")\n",
    "\n"
   ]
  },
  {
   "cell_type": "code",
   "execution_count": 62,
   "metadata": {},
   "outputs": [
    {
     "name": "stderr",
     "output_type": "stream",
     "text": [
      "`stat_bin()` using `bins = 30`. Pick better value with `binwidth`.Warning message:\n",
      "“Removed 114 rows containing non-finite values (`stat_bin()`).”"
     ]
    },
    {
     "data": {
      "image/png": "[encoded data removed]",
      "text/plain": [
       "plot without title"
      ]
     },
     "metadata": {},
     "output_type": "display_data"
    }
   ],
   "source": [
    "ggplot(train_set, aes(x = dry_bulb_temp_f))+\n",
    "geom_histogram(color = \" darkgreen\", fill = \"lightgreen\")\n",
    "\n"
   ]
  },
  {
   "cell_type": "code",
   "execution_count": 63,
   "metadata": {},
   "outputs": [
    {
     "name": "stderr",
     "output_type": "stream",
     "text": [
      "`stat_bin()` using `bins = 30`. Pick better value with `binwidth`.Warning message:\n",
      "“Removed 1349 rows containing non-finite values (`stat_bin()`).”"
     ]
    },
    {
     "data": {
      "image/png": "[encoded data removed]",
      "text/plain": [
       "plot without title"
      ]
     },
     "metadata": {},
     "output_type": "display_data"
    }
   ],
   "source": [
    "ggplot(train_set, aes(x = precip))+\n",
    "geom_histogram(color = \" darkgreen\", fill = \"lightgreen\")\n",
    "\n"
   ]
  },
  {
   "cell_type": "code",
   "execution_count": 64,
   "metadata": {},
   "outputs": [
    {
     "name": "stderr",
     "output_type": "stream",
     "text": [
      "`stat_bin()` using `bins = 30`. Pick better value with `binwidth`.Warning message:\n",
      "“Removed 119 rows containing non-finite values (`stat_bin()`).”"
     ]
    },
    {
     "data": {
      "image/png": "[encoded data removed]",
      "text/plain": [
       "plot without title"
      ]
     },
     "metadata": {},
     "output_type": "display_data"
    }
   ],
   "source": [
    "ggplot(train_set, aes(x = wind_speed))+\n",
    "geom_histogram(color = \" darkgreen\", fill = \"lightgreen\")"
   ]
  },
  {
   "cell_type": "code",
   "execution_count": 65,
   "metadata": {},
   "outputs": [
    {
     "name": "stderr",
     "output_type": "stream",
     "text": [
      "`stat_bin()` using `bins = 30`. Pick better value with `binwidth`.Warning message:\n",
      "“Removed 121 rows containing non-finite values (`stat_bin()`).”"
     ]
    },
    {
     "data": {
      "image/png": "[encoded data removed]",
      "text/plain": [
       "plot without title"
      ]
     },
     "metadata": {},
     "output_type": "display_data"
    }
   ],
   "source": [
    "\n",
    "ggplot(train_set, aes(x = station_pressure))+\n",
    "geom_histogram(color = \" darkgreen\", fill = \"lightgreen\")"
   ]
  },
  {
   "cell_type": "markdown",
   "id": "e2018800-ee89-41f7-b5b5-fa29bfff177e",
   "metadata": {},
   "source": [
    "<a id=\"cell8\"></a>\n",
    "## 8. Linear Regression \n",
    "After exploring the dataset more, you are now ready to start creating models to predict the precipitation (`precip`).\n",
    "\n",
    "Create simple linear regression models where `precip` is the response variable and each of `relative_humidity`, `dry_bulb_temp_f`,`wind_speed` or `station_pressure` will be a predictor variable, e.g. `precip ~ relative_humidity`, `precip ~ dry_bulb_temp_f`, etc. for a total of four simple models. \n",
    "Additionally, visualize each simple model with a scatter plot.\n"
   ]
  },
  {
   "cell_type": "code",
   "execution_count": null,
   "metadata": {},
   "outputs": [],
   "source": []
  },
  {
   "cell_type": "code",
   "execution_count": 83,
   "id": "e74e07c8-0002-4426-9d1d-74e19166047b",
   "metadata": {},
   "outputs": [],
   "source": [
    "# Simple linear regression \n",
    "lm_a_train <- lm(precip ~ relative_humidity, data = train_set)\n",
    "lm_b_train <- lm(precip ~ dry_bulb_temp_f, data = train_set)\n",
    "lm_c_train <- lm(precip ~ wind_speed, data = train_set)\n",
    "lm_d_train <- lm(precip ~ station_pressure, data = train_set)"
   ]
  },
  {
   "cell_type": "code",
   "execution_count": null,
   "id": "0a4bd487-62dc-41c0-b147-13a6893eaa53",
   "metadata": {},
   "outputs": [],
   "source": [
    " "
   ]
  },
  {
   "cell_type": "code",
   "execution_count": 84,
   "id": "e04c7981-ffde-4be9-820c-d43cb3f6bf67",
   "metadata": {},
   "outputs": [
    {
     "name": "stderr",
     "output_type": "stream",
     "text": [
      "Warning message:\n",
      "“Removed 1349 rows containing missing values (`geom_point()`).”"
     ]
    },
    {
     "data": {
      "image/png": "[encoded data removed]",
      "text/plain": [
       "plot without title"
      ]
     },
     "metadata": {},
     "output_type": "display_data"
    }
   ],
   "source": [
    "train_set %>%\n",
    "ggplot(aes(relative_humidity, precip))+\n",
    "  geom_point()\n",
    " \n",
    "\n"
   ]
  },
  {
   "cell_type": "code",
   "execution_count": 85,
   "id": "1f1f80bc-0c9e-437b-8cda-4ac273496f81",
   "metadata": {},
   "outputs": [
    {
     "name": "stderr",
     "output_type": "stream",
     "text": [
      "Warning message:\n",
      "“Removed 1349 rows containing missing values (`geom_point()`).”"
     ]
    },
    {
     "data": {
      "image/png": "[encoded data removed]",
      "text/plain": [
       "plot without title"
      ]
     },
     "metadata": {},
     "output_type": "display_data"
    }
   ],
   "source": [
    "train_set %>%\n",
    "ggplot(aes(dry_bulb_temp_f, precip))+\n",
    "  geom_point()\n",
    " \n",
    "\n"
   ]
  },
  {
   "cell_type": "code",
   "execution_count": 86,
   "metadata": {},
   "outputs": [
    {
     "name": "stderr",
     "output_type": "stream",
     "text": [
      "Warning message:\n",
      "“Removed 1349 rows containing missing values (`geom_point()`).”"
     ]
    },
    {
     "data": {
      "image/png": "[encoded data removed]",
      "text/plain": [
       "plot without title"
      ]
     },
     "metadata": {},
     "output_type": "display_data"
    }
   ],
   "source": [
    "train_set %>%\n",
    "ggplot(aes(wind_speed, precip))+\n",
    "  geom_point()\n",
    " \n",
    "\n"
   ]
  },
  {
   "cell_type": "code",
   "execution_count": 96,
   "metadata": {},
   "outputs": [
    {
     "name": "stderr",
     "output_type": "stream",
     "text": [
      "Warning message:\n",
      "“Removed 1353 rows containing missing values (`geom_point()`).”"
     ]
    },
    {
     "data": {
      "image/png": "[encoded data removed]",
      "text/plain": [
       "plot without title"
      ]
     },
     "metadata": {},
     "output_type": "display_data"
    }
   ],
   "source": [
    "train_set %>%\n",
    "ggplot(aes(station_pressure, precip))+\n",
    "  geom_point()\n",
    " "
   ]
  },
  {
   "cell_type": "markdown",
   "id": "c8b87c2c-05f9-451e-9162-3bd8847f9b33",
   "metadata": {},
   "source": [
    "<a id=\"cell9\"></a>\n",
    "## 9. Improve the Model\n",
    "Now, try improving the simple models you created in the previous section. \n",
    "\n",
    "Create at least two more models, each model should use at least one of the different techniques:\n",
    "1. Add more features/predictors\n",
    "2. Add regularization (L1, L2 or a mix)\n",
    "3. Add a polynomial component\n",
    "\n",
    "Also, for each of the models you create, check the model performance using the **training set** and a metric like MSE, RMSE, or R-squared.\n",
    "\n",
    "Consider using `tidymodels` if you choose to add regularization and tune lambda.\n"
   ]
  },
  {
   "cell_type": "code",
   "execution_count": 97,
   "id": "3543f2e6-1f2c-41e9-85ee-e322414f7c59",
   "metadata": {},
   "outputs": [],
   "source": [
    "# Multiple linear regression\n",
    "mlr_e_train <- lm(precip ~ relative_humidity + wind_speed, data = train_set)\n",
    "mlr_f_train <- lm(precip ~ relative_humidity + wind_speed + station_pressure, data = train_set)\n"
   ]
  },
  {
   "cell_type": "code",
   "execution_count": 98,
   "metadata": {},
   "outputs": [],
   "source": [
    "lm_a_test <- lm(precip ~ relative_humidity, data = test_set)\n",
    "lm_b_test <- lm(precip ~ dry_bulb_temp_f, data = test_set)\n",
    "lm_c_test <- lm(precip ~ wind_speed, data = test_set)\n",
    "lm_d_test <- lm(precip ~ station_pressure, data = test_set)\n",
    "\n"
   ]
  },
  {
   "cell_type": "code",
   "execution_count": 99,
   "metadata": {},
   "outputs": [],
   "source": [
    "mlr_e_test <- lm(precip ~ relative_humidity + wind_speed, data = test_set)\n",
    "mlr_f_test <- lm(precip ~ relative_humidity + wind_speed + station_pressure, data = test_set)"
   ]
  },
  {
   "cell_type": "code",
   "execution_count": 113,
   "metadata": {},
   "outputs": [],
   "source": [
    "#nova verzija, radi razlike u pred truth uzimala mean squared error po nizem principu (yt video)\n",
    "#IDEJA JE kao da svaki put jedna varijabla utjecaja i jedan x i predikcija y-ona po njoj, pa pogreska predikcije po fitu po njoj, , jer zadatak\n",
    "#da napravimo 4 SIMPLE LINEAR MODELA, IAKO OVO ZAPRAVO MULTIPLE LINEAR REGRESSION,  ONDA U IMPROVED DIJELU SAM RADILA KAO MULTIPLE LINEAR REG.\n",
    "# A NAJBOLJI OD OVIH JE ONAJ KOJI IMA NAJMANJI MEAN SQUARED ERROR RECIMO, lm_a_train, b ,  c, d, e, f ;"
   ]
  },
  {
   "cell_type": "code",
   "execution_count": 114,
   "metadata": {},
   "outputs": [],
   "source": [
    "lm_a_predict <- linear_reg() %>%\n",
    "  set_engine(engine = \"lm\")\n",
    "\n",
    "train_fit <- lm_a_predict %>% \n",
    "    fit(precip ~ relative_humidity , data = train_set)\n",
    "#fit na train dijelu podataka\n",
    "\n",
    "lm_a_results <- train_fit %>%\n",
    "  predict(new_data = test_set) %>%\n",
    "  mutate(truth = test_set$precip)\n",
    "#primjena predict train fita na test dijelu podataka i umetanje nove kolone predikt podataka i kolone stvarnih podataka precip da se vidi razlika predikcije i stvarnih podataka test seta\n",
    "#dataframe with new predicted data and real truth data for test set\n",
    "#varijabla po varijabla,parametar po parametar ovdje"
   ]
  },
  {
   "cell_type": "code",
   "execution_count": 115,
   "metadata": {},
   "outputs": [
    {
     "data": {
      "text/html": [
       "<table>\n",
       "<thead><tr><th scope=col>.pred</th><th scope=col>truth</th></tr></thead>\n",
       "<tbody>\n",
       "\t<tr><td>-0.001561009</td><td> 0          </td></tr>\n",
       "\t<tr><td> 0.011883376</td><td> 0          </td></tr>\n",
       "\t<tr><td> 0.006179698</td><td> 0          </td></tr>\n",
       "\t<tr><td>-0.005227660</td><td> 0          </td></tr>\n",
       "\t<tr><td> 0.008624131</td><td>NA          </td></tr>\n",
       "\t<tr><td>-0.005635065</td><td>NA          </td></tr>\n",
       "</tbody>\n",
       "</table>\n"
      ],
      "text/latex": [
       "\\begin{tabular}{r|ll}\n",
       " .pred & truth\\\\\n",
       "\\hline\n",
       "\t -0.001561009 &  0          \\\\\n",
       "\t  0.011883376 &  0          \\\\\n",
       "\t  0.006179698 &  0          \\\\\n",
       "\t -0.005227660 &  0          \\\\\n",
       "\t  0.008624131 & NA          \\\\\n",
       "\t -0.005635065 & NA          \\\\\n",
       "\\end{tabular}\n"
      ],
      "text/markdown": [
       "\n",
       "| .pred | truth |\n",
       "|---|---|\n",
       "| -0.001561009 |  0           |\n",
       "|  0.011883376 |  0           |\n",
       "|  0.006179698 |  0           |\n",
       "| -0.005227660 |  0           |\n",
       "|  0.008624131 | NA           |\n",
       "| -0.005635065 | NA           |\n",
       "\n"
      ],
      "text/plain": [
       "  .pred        truth\n",
       "1 -0.001561009  0   \n",
       "2  0.011883376  0   \n",
       "3  0.006179698  0   \n",
       "4 -0.005227660  0   \n",
       "5  0.008624131 NA   \n",
       "6 -0.005635065 NA   "
      ]
     },
     "metadata": {},
     "output_type": "display_data"
    }
   ],
   "source": [
    "head(lm_a_results)"
   ]
  },
  {
   "cell_type": "code",
   "execution_count": 116,
   "metadata": {},
   "outputs": [],
   "source": [
    "mse_lm_a_train <- mean(lm_a_train$residuals^2)\n",
    "#razlika izmedju 2 stupca gore je pogrska i ko ima najmanju pogresku pobjednik od ovih predikcija"
   ]
  },
  {
   "cell_type": "code",
   "execution_count": 117,
   "metadata": {},
   "outputs": [
    {
     "name": "stdout",
     "output_type": "stream",
     "text": [
      "[1] 0.001817648\n"
     ]
    }
   ],
   "source": [
    "print(mse_lm_a_train)"
   ]
  },
  {
   "cell_type": "code",
   "execution_count": 118,
   "metadata": {},
   "outputs": [],
   "source": [
    "#mogla sam i (https://www.youtube.com/watch?v=5MvyuMcqpFg)\n",
    "#mse_lm_a_train <-((train_set$precip - predict(lm_a_train))^2)"
   ]
  },
  {
   "cell_type": "code",
   "execution_count": 119,
   "metadata": {},
   "outputs": [],
   "source": [
    "lm_b_predict <- linear_reg() %>%\n",
    "  set_engine(engine = \"lm\")\n",
    "\n",
    "train_fit <- lm_b_predict %>% \n",
    "    fit(precip ~ dry_bulb_temp_f , data = train_set)\n",
    "\n",
    "lm_b_results <- train_fit %>%\n",
    "  predict(new_data = test_set) %>%\n",
    "  mutate(truth = test_set$precip)"
   ]
  },
  {
   "cell_type": "code",
   "execution_count": 120,
   "metadata": {},
   "outputs": [
    {
     "data": {
      "text/html": [
       "<table>\n",
       "<thead><tr><th scope=col>.pred</th><th scope=col>truth</th></tr></thead>\n",
       "<tbody>\n",
       "\t<tr><td>0.007429278</td><td> 0         </td></tr>\n",
       "\t<tr><td>0.006074421</td><td> 0         </td></tr>\n",
       "\t<tr><td>0.005526026</td><td> 0         </td></tr>\n",
       "\t<tr><td>0.006171196</td><td> 0         </td></tr>\n",
       "\t<tr><td>0.007042176</td><td>NA         </td></tr>\n",
       "\t<tr><td>0.006267972</td><td>NA         </td></tr>\n",
       "</tbody>\n",
       "</table>\n"
      ],
      "text/latex": [
       "\\begin{tabular}{r|ll}\n",
       " .pred & truth\\\\\n",
       "\\hline\n",
       "\t 0.007429278 &  0         \\\\\n",
       "\t 0.006074421 &  0         \\\\\n",
       "\t 0.005526026 &  0         \\\\\n",
       "\t 0.006171196 &  0         \\\\\n",
       "\t 0.007042176 & NA         \\\\\n",
       "\t 0.006267972 & NA         \\\\\n",
       "\\end{tabular}\n"
      ],
      "text/markdown": [
       "\n",
       "| .pred | truth |\n",
       "|---|---|\n",
       "| 0.007429278 |  0          |\n",
       "| 0.006074421 |  0          |\n",
       "| 0.005526026 |  0          |\n",
       "| 0.006171196 |  0          |\n",
       "| 0.007042176 | NA          |\n",
       "| 0.006267972 | NA          |\n",
       "\n"
      ],
      "text/plain": [
       "  .pred       truth\n",
       "1 0.007429278  0   \n",
       "2 0.006074421  0   \n",
       "3 0.005526026  0   \n",
       "4 0.006171196  0   \n",
       "5 0.007042176 NA   \n",
       "6 0.006267972 NA   "
      ]
     },
     "metadata": {},
     "output_type": "display_data"
    }
   ],
   "source": [
    "head(lm_b_results)"
   ]
  },
  {
   "cell_type": "code",
   "execution_count": 121,
   "metadata": {},
   "outputs": [],
   "source": [
    "lm_c_predict <- linear_reg() %>%\n",
    "  set_engine(engine = \"lm\")\n",
    "\n",
    "train_fit <- lm_c_predict %>% \n",
    "    fit(precip ~ wind_speed , data = train_set)\n",
    "\n",
    "lm_c_results <- train_fit %>%\n",
    "  predict(new_data = test_set) %>%\n",
    "  mutate(truth = test_set$precip)"
   ]
  },
  {
   "cell_type": "code",
   "execution_count": 122,
   "metadata": {},
   "outputs": [
    {
     "data": {
      "text/html": [
       "<table>\n",
       "<thead><tr><th scope=col>.pred</th><th scope=col>truth</th></tr></thead>\n",
       "<tbody>\n",
       "\t<tr><td>0.007202385</td><td> 0         </td></tr>\n",
       "\t<tr><td>0.004534512</td><td> 0         </td></tr>\n",
       "\t<tr><td>0.006440136</td><td> 0         </td></tr>\n",
       "\t<tr><td>0.004915637</td><td> 0         </td></tr>\n",
       "\t<tr><td>0.004534512</td><td>NA         </td></tr>\n",
       "\t<tr><td>0.007202385</td><td>NA         </td></tr>\n",
       "</tbody>\n",
       "</table>\n"
      ],
      "text/latex": [
       "\\begin{tabular}{r|ll}\n",
       " .pred & truth\\\\\n",
       "\\hline\n",
       "\t 0.007202385 &  0         \\\\\n",
       "\t 0.004534512 &  0         \\\\\n",
       "\t 0.006440136 &  0         \\\\\n",
       "\t 0.004915637 &  0         \\\\\n",
       "\t 0.004534512 & NA         \\\\\n",
       "\t 0.007202385 & NA         \\\\\n",
       "\\end{tabular}\n"
      ],
      "text/markdown": [
       "\n",
       "| .pred | truth |\n",
       "|---|---|\n",
       "| 0.007202385 |  0          |\n",
       "| 0.004534512 |  0          |\n",
       "| 0.006440136 |  0          |\n",
       "| 0.004915637 |  0          |\n",
       "| 0.004534512 | NA          |\n",
       "| 0.007202385 | NA          |\n",
       "\n"
      ],
      "text/plain": [
       "  .pred       truth\n",
       "1 0.007202385  0   \n",
       "2 0.004534512  0   \n",
       "3 0.006440136  0   \n",
       "4 0.004915637  0   \n",
       "5 0.004534512 NA   \n",
       "6 0.007202385 NA   "
      ]
     },
     "metadata": {},
     "output_type": "display_data"
    }
   ],
   "source": [
    "head(lm_c_results)"
   ]
  },
  {
   "cell_type": "code",
   "execution_count": 123,
   "metadata": {},
   "outputs": [],
   "source": [
    "lm_d_predict <- linear_reg() %>%\n",
    "  set_engine(engine = \"lm\")\n",
    "\n",
    "train_fit <- lm_c_predict %>% \n",
    "    fit(precip ~ station_pressure , data = train_set)\n",
    "\n",
    "lm_d_results <- train_fit %>%\n",
    "  predict(new_data = test_set) %>%\n",
    "  mutate(truth = test_set$precip)"
   ]
  },
  {
   "cell_type": "code",
   "execution_count": 124,
   "metadata": {},
   "outputs": [
    {
     "data": {
      "text/html": [
       "<table>\n",
       "<thead><tr><th scope=col>.pred</th><th scope=col>truth</th></tr></thead>\n",
       "<tbody>\n",
       "\t<tr><td> 0.0066377203</td><td> 0           </td></tr>\n",
       "\t<tr><td> 0.0082196736</td><td> 0           </td></tr>\n",
       "\t<tr><td>-0.0014980394</td><td> 0           </td></tr>\n",
       "\t<tr><td> 0.0007618938</td><td> 0           </td></tr>\n",
       "\t<tr><td> 0.0077676869</td><td>NA           </td></tr>\n",
       "\t<tr><td> 0.0098016269</td><td>NA           </td></tr>\n",
       "</tbody>\n",
       "</table>\n"
      ],
      "text/latex": [
       "\\begin{tabular}{r|ll}\n",
       " .pred & truth\\\\\n",
       "\\hline\n",
       "\t  0.0066377203 &  0           \\\\\n",
       "\t  0.0082196736 &  0           \\\\\n",
       "\t -0.0014980394 &  0           \\\\\n",
       "\t  0.0007618938 &  0           \\\\\n",
       "\t  0.0077676869 & NA           \\\\\n",
       "\t  0.0098016269 & NA           \\\\\n",
       "\\end{tabular}\n"
      ],
      "text/markdown": [
       "\n",
       "| .pred | truth |\n",
       "|---|---|\n",
       "|  0.0066377203 |  0            |\n",
       "|  0.0082196736 |  0            |\n",
       "| -0.0014980394 |  0            |\n",
       "|  0.0007618938 |  0            |\n",
       "|  0.0077676869 | NA            |\n",
       "|  0.0098016269 | NA            |\n",
       "\n"
      ],
      "text/plain": [
       "  .pred         truth\n",
       "1  0.0066377203  0   \n",
       "2  0.0082196736  0   \n",
       "3 -0.0014980394  0   \n",
       "4  0.0007618938  0   \n",
       "5  0.0077676869 NA   \n",
       "6  0.0098016269 NA   "
      ]
     },
     "metadata": {},
     "output_type": "display_data"
    }
   ],
   "source": [
    "head(lm_d_results)"
   ]
  },
  {
   "cell_type": "code",
   "execution_count": 125,
   "metadata": {},
   "outputs": [],
   "source": [
    "lm_e_predict <- linear_reg() %>%\n",
    "  set_engine(engine = \"lm\")\n",
    "\n",
    "train_fit <- lm_e_predict %>% \n",
    "    fit(precip ~ relative_humidity + wind_speed , data = train_set)\n",
    "\n",
    "lm_e_results <- train_fit %>%\n",
    "  predict(new_data = test_set) %>%\n",
    "  mutate(truth = test_set$precip)"
   ]
  },
  {
   "cell_type": "code",
   "execution_count": 126,
   "metadata": {},
   "outputs": [
    {
     "data": {
      "text/html": [
       "<table>\n",
       "<thead><tr><th scope=col>.pred</th><th scope=col>truth</th></tr></thead>\n",
       "<tbody>\n",
       "\t<tr><td>-0.001383697</td><td> 0          </td></tr>\n",
       "\t<tr><td> 0.008722329</td><td> 0          </td></tr>\n",
       "\t<tr><td> 0.005935179</td><td> 0          </td></tr>\n",
       "\t<tr><td>-0.009984160</td><td> 0          </td></tr>\n",
       "\t<tr><td> 0.005018439</td><td>NA          </td></tr>\n",
       "\t<tr><td>-0.006013559</td><td>NA          </td></tr>\n",
       "</tbody>\n",
       "</table>\n"
      ],
      "text/latex": [
       "\\begin{tabular}{r|ll}\n",
       " .pred & truth\\\\\n",
       "\\hline\n",
       "\t -0.001383697 &  0          \\\\\n",
       "\t  0.008722329 &  0          \\\\\n",
       "\t  0.005935179 &  0          \\\\\n",
       "\t -0.009984160 &  0          \\\\\n",
       "\t  0.005018439 & NA          \\\\\n",
       "\t -0.006013559 & NA          \\\\\n",
       "\\end{tabular}\n"
      ],
      "text/markdown": [
       "\n",
       "| .pred | truth |\n",
       "|---|---|\n",
       "| -0.001383697 |  0           |\n",
       "|  0.008722329 |  0           |\n",
       "|  0.005935179 |  0           |\n",
       "| -0.009984160 |  0           |\n",
       "|  0.005018439 | NA           |\n",
       "| -0.006013559 | NA           |\n",
       "\n"
      ],
      "text/plain": [
       "  .pred        truth\n",
       "1 -0.001383697  0   \n",
       "2  0.008722329  0   \n",
       "3  0.005935179  0   \n",
       "4 -0.009984160  0   \n",
       "5  0.005018439 NA   \n",
       "6 -0.006013559 NA   "
      ]
     },
     "metadata": {},
     "output_type": "display_data"
    }
   ],
   "source": [
    "head(lm_e_results)"
   ]
  },
  {
   "cell_type": "code",
   "execution_count": 127,
   "metadata": {},
   "outputs": [],
   "source": [
    "lm_f_predict <- linear_reg() %>%\n",
    "  set_engine(engine = \"lm\")\n",
    "\n",
    "train_fit <- lm_f_predict %>% \n",
    "    fit(precip ~ relative_humidity + wind_speed + station_pressure , data = train_set)\n",
    "\n",
    "lm_f_results <- train_fit %>%\n",
    "  predict(new_data = test_set) %>%\n",
    "  mutate(truth = test_set$precip)"
   ]
  },
  {
   "cell_type": "code",
   "execution_count": 128,
   "metadata": {},
   "outputs": [
    {
     "data": {
      "text/html": [
       "<table>\n",
       "<thead><tr><th scope=col>.pred</th><th scope=col>truth</th></tr></thead>\n",
       "<tbody>\n",
       "\t<tr><td>-0.0008009163</td><td> 0           </td></tr>\n",
       "\t<tr><td> 0.0096444696</td><td> 0           </td></tr>\n",
       "\t<tr><td> 0.0025868035</td><td> 0           </td></tr>\n",
       "\t<tr><td>-0.0107881501</td><td> 0           </td></tr>\n",
       "\t<tr><td> 0.0060500859</td><td>NA           </td></tr>\n",
       "\t<tr><td>-0.0037019772</td><td>NA           </td></tr>\n",
       "</tbody>\n",
       "</table>\n"
      ],
      "text/latex": [
       "\\begin{tabular}{r|ll}\n",
       " .pred & truth\\\\\n",
       "\\hline\n",
       "\t -0.0008009163 &  0           \\\\\n",
       "\t  0.0096444696 &  0           \\\\\n",
       "\t  0.0025868035 &  0           \\\\\n",
       "\t -0.0107881501 &  0           \\\\\n",
       "\t  0.0060500859 & NA           \\\\\n",
       "\t -0.0037019772 & NA           \\\\\n",
       "\\end{tabular}\n"
      ],
      "text/markdown": [
       "\n",
       "| .pred | truth |\n",
       "|---|---|\n",
       "| -0.0008009163 |  0            |\n",
       "|  0.0096444696 |  0            |\n",
       "|  0.0025868035 |  0            |\n",
       "| -0.0107881501 |  0            |\n",
       "|  0.0060500859 | NA            |\n",
       "| -0.0037019772 | NA            |\n",
       "\n"
      ],
      "text/plain": [
       "  .pred         truth\n",
       "1 -0.0008009163  0   \n",
       "2  0.0096444696  0   \n",
       "3  0.0025868035  0   \n",
       "4 -0.0107881501  0   \n",
       "5  0.0060500859 NA   \n",
       "6 -0.0037019772 NA   "
      ]
     },
     "metadata": {},
     "output_type": "display_data"
    }
   ],
   "source": [
    "head(lm_f_results)"
   ]
  },
  {
   "cell_type": "code",
   "execution_count": null,
   "metadata": {},
   "outputs": [],
   "source": [
    "#od nize prva verzija"
   ]
  },
  {
   "cell_type": "code",
   "execution_count": null,
   "metadata": {},
   "outputs": [],
   "source": []
  },
  {
   "cell_type": "code",
   "execution_count": 129,
   "metadata": {},
   "outputs": [
    {
     "data": {
      "text/html": [
       "0.042633884986004"
      ],
      "text/latex": [
       "0.042633884986004"
      ],
      "text/markdown": [
       "0.042633884986004"
      ],
      "text/plain": [
       "[1] 0.04263388"
      ]
     },
     "metadata": {},
     "output_type": "display_data"
    },
    {
     "data": {
      "text/html": [
       "0.0348125959119728"
      ],
      "text/latex": [
       "0.0348125959119728"
      ],
      "text/markdown": [
       "0.0348125959119728"
      ],
      "text/plain": [
       "[1] 0.0348126"
      ]
     },
     "metadata": {},
     "output_type": "display_data"
    }
   ],
   "source": [
    "mse_lm_a_train <- mean(lm_a_train$residuals^2)\n",
    "rmse_lm_a_train <- sqrt(mse_lm_a_train)\n",
    "rmse_lm_a_train\n",
    "\n",
    "summary(lm_a_train)$r.squared"
   ]
  },
  {
   "cell_type": "code",
   "execution_count": 130,
   "metadata": {},
   "outputs": [
    {
     "data": {
      "text/html": [
       "0.043392385033562"
      ],
      "text/latex": [
       "0.043392385033562"
      ],
      "text/markdown": [
       "0.043392385033562"
      ],
      "text/plain": [
       "[1] 0.04339239"
      ]
     },
     "metadata": {},
     "output_type": "display_data"
    },
    {
     "data": {
      "text/html": [
       "0.00016376925087888"
      ],
      "text/latex": [
       "0.00016376925087888"
      ],
      "text/markdown": [
       "0.00016376925087888"
      ],
      "text/plain": [
       "[1] 0.0001637693"
      ]
     },
     "metadata": {},
     "output_type": "display_data"
    }
   ],
   "source": [
    "mse_lm_b_train <- mean(lm_b_train$residuals^2)\n",
    "rmse_lm_b_train <- sqrt(mse_lm_b_train)\n",
    "rmse_lm_b_train\n",
    "\n",
    "summary(lm_b_train)$r.squared"
   ]
  },
  {
   "cell_type": "code",
   "execution_count": 131,
   "metadata": {},
   "outputs": [
    {
     "data": {
      "text/html": [
       "0.0433315518426125"
      ],
      "text/latex": [
       "0.0433315518426125"
      ],
      "text/markdown": [
       "0.0433315518426125"
      ],
      "text/plain": [
       "[1] 0.04333155"
      ]
     },
     "metadata": {},
     "output_type": "display_data"
    },
    {
     "data": {
      "text/html": [
       "0.00296520979252207"
      ],
      "text/latex": [
       "0.00296520979252207"
      ],
      "text/markdown": [
       "0.00296520979252207"
      ],
      "text/plain": [
       "[1] 0.00296521"
      ]
     },
     "metadata": {},
     "output_type": "display_data"
    }
   ],
   "source": [
    "mse_lm_c_train <- mean(lm_c_train$residuals^2)\n",
    "rmse_lm_c_train <- sqrt(mse_lm_c_train)\n",
    "rmse_lm_c_train\n",
    "\n",
    "summary(lm_c_train)$r.squared"
   ]
  },
  {
   "cell_type": "code",
   "execution_count": 132,
   "metadata": {},
   "outputs": [
    {
     "data": {
      "text/html": [
       "0.0430772440922356"
      ],
      "text/latex": [
       "0.0430772440922356"
      ],
      "text/markdown": [
       "0.0430772440922356"
      ],
      "text/plain": [
       "[1] 0.04307724"
      ]
     },
     "metadata": {},
     "output_type": "display_data"
    },
    {
     "data": {
      "text/html": [
       "0.01557426038156"
      ],
      "text/latex": [
       "0.01557426038156"
      ],
      "text/markdown": [
       "0.01557426038156"
      ],
      "text/plain": [
       "[1] 0.01557426"
      ]
     },
     "metadata": {},
     "output_type": "display_data"
    }
   ],
   "source": [
    "mse_lm_d_train <- mean(lm_d_train$residuals^2)\n",
    "rmse_lm_d_train <- sqrt(mse_lm_d_train)\n",
    "rmse_lm_d_train\n",
    "\n",
    "summary(lm_d_train)$r.squared"
   ]
  },
  {
   "cell_type": "code",
   "execution_count": 133,
   "metadata": {},
   "outputs": [
    {
     "data": {
      "text/html": [
       "0.0424013869180329"
      ],
      "text/latex": [
       "0.0424013869180329"
      ],
      "text/markdown": [
       "0.0424013869180329"
      ],
      "text/plain": [
       "[1] 0.04240139"
      ]
     },
     "metadata": {},
     "output_type": "display_data"
    },
    {
     "data": {
      "text/html": [
       "0.0453109273640681"
      ],
      "text/latex": [
       "0.0453109273640681"
      ],
      "text/markdown": [
       "0.0453109273640681"
      ],
      "text/plain": [
       "[1] 0.04531093"
      ]
     },
     "metadata": {},
     "output_type": "display_data"
    }
   ],
   "source": [
    "mse_mlr_e_train <- mean(mlr_e_train$residuals^2)\n",
    "rmse_mlr_e_train <- sqrt(mse_mlr_e_train)\n",
    "rmse_mlr_e_train\n",
    "\n",
    "summary(mlr_e_train)$r.squared"
   ]
  },
  {
   "cell_type": "code",
   "execution_count": 134,
   "metadata": {},
   "outputs": [
    {
     "data": {
      "text/html": [
       "0.0423731277100182"
      ],
      "text/latex": [
       "0.0423731277100182"
      ],
      "text/markdown": [
       "0.0423731277100182"
      ],
      "text/plain": [
       "[1] 0.04237313"
      ]
     },
     "metadata": {},
     "output_type": "display_data"
    },
    {
     "data": {
      "text/html": [
       "0.047492986038494"
      ],
      "text/latex": [
       "0.047492986038494"
      ],
      "text/markdown": [
       "0.047492986038494"
      ],
      "text/plain": [
       "[1] 0.04749299"
      ]
     },
     "metadata": {},
     "output_type": "display_data"
    }
   ],
   "source": [
    "mse_mlr_f_train <- mean(mlr_f_train$residuals^2)\n",
    "rmse_mlr_f_train <- sqrt(mse_mlr_f_train)\n",
    "rmse_mlr_f_train\n",
    "\n",
    "summary(mlr_f_train)$r.squared"
   ]
  },
  {
   "cell_type": "code",
   "execution_count": 135,
   "metadata": {},
   "outputs": [
    {
     "data": {
      "text/html": [
       "0.03322053062065"
      ],
      "text/latex": [
       "0.03322053062065"
      ],
      "text/markdown": [
       "0.03322053062065"
      ],
      "text/plain": [
       "[1] 0.03322053"
      ]
     },
     "metadata": {},
     "output_type": "display_data"
    },
    {
     "data": {
      "text/html": [
       "0.0587280705157021"
      ],
      "text/latex": [
       "0.0587280705157021"
      ],
      "text/markdown": [
       "0.0587280705157021"
      ],
      "text/plain": [
       "[1] 0.05872807"
      ]
     },
     "metadata": {},
     "output_type": "display_data"
    }
   ],
   "source": [
    "mse_lm_a_test <- mean(lm_a_test$residuals^2)\n",
    "rmse_lm_a_test <- sqrt(mse_lm_a_test)\n",
    "rmse_lm_a_test\n",
    "\n",
    "summary(lm_a_test)$r.squared"
   ]
  },
  {
   "cell_type": "code",
   "execution_count": 136,
   "metadata": {},
   "outputs": [
    {
     "data": {
      "text/html": [
       "0.0342407570726119"
      ],
      "text/latex": [
       "0.0342407570726119"
      ],
      "text/markdown": [
       "0.0342407570726119"
      ],
      "text/plain": [
       "[1] 0.03424076"
      ]
     },
     "metadata": {},
     "output_type": "display_data"
    },
    {
     "data": {
      "text/html": [
       "2.60319245104704e-05"
      ],
      "text/latex": [
       "2.60319245104704e-05"
      ],
      "text/markdown": [
       "2.60319245104704e-05"
      ],
      "text/plain": [
       "[1] 2.603192e-05"
      ]
     },
     "metadata": {},
     "output_type": "display_data"
    }
   ],
   "source": [
    "mse_lm_b_test <- mean(lm_b_test$residuals^2)\n",
    "rmse_lm_b_test <- sqrt(mse_lm_b_test)\n",
    "rmse_lm_b_test\n",
    "\n",
    "summary(lm_b_test)$r.squared"
   ]
  },
  {
   "cell_type": "code",
   "execution_count": 137,
   "metadata": {},
   "outputs": [
    {
     "data": {
      "text/html": [
       "0.0336190623854605"
      ],
      "text/latex": [
       "0.0336190623854605"
      ],
      "text/markdown": [
       "0.0336190623854605"
      ],
      "text/plain": [
       "[1] 0.03361906"
      ]
     },
     "metadata": {},
     "output_type": "display_data"
    },
    {
     "data": {
      "text/html": [
       "0.0360085732827907"
      ],
      "text/latex": [
       "0.0360085732827907"
      ],
      "text/markdown": [
       "0.0360085732827907"
      ],
      "text/plain": [
       "[1] 0.03600857"
      ]
     },
     "metadata": {},
     "output_type": "display_data"
    }
   ],
   "source": [
    "mse_lm_c_test <- mean(lm_c_test$residuals^2)\n",
    "rmse_lm_c_test <- sqrt(mse_lm_c_test)\n",
    "rmse_lm_c_test\n",
    "\n",
    "summary(lm_c_test)$r.squared"
   ]
  },
  {
   "cell_type": "code",
   "execution_count": 138,
   "metadata": {},
   "outputs": [
    {
     "data": {
      "text/html": [
       "0.0336635239626001"
      ],
      "text/latex": [
       "0.0336635239626001"
      ],
      "text/markdown": [
       "0.0336635239626001"
      ],
      "text/plain": [
       "[1] 0.03366352"
      ]
     },
     "metadata": {},
     "output_type": "display_data"
    },
    {
     "data": {
      "text/html": [
       "0.0334571088498333"
      ],
      "text/latex": [
       "0.0334571088498333"
      ],
      "text/markdown": [
       "0.0334571088498333"
      ],
      "text/plain": [
       "[1] 0.03345711"
      ]
     },
     "metadata": {},
     "output_type": "display_data"
    }
   ],
   "source": [
    "mse_lm_d_test <- mean(lm_d_test$residuals^2)\n",
    "rmse_lm_d_test <- sqrt(mse_lm_d_test)\n",
    "rmse_lm_d_test\n",
    "\n",
    "summary(lm_d_test)$r.squared"
   ]
  },
  {
   "cell_type": "code",
   "execution_count": 139,
   "metadata": {},
   "outputs": [
    {
     "data": {
      "text/html": [
       "0.0321504176207227"
      ],
      "text/latex": [
       "0.0321504176207227"
      ],
      "text/markdown": [
       "0.0321504176207227"
      ],
      "text/plain": [
       "[1] 0.03215042"
      ]
     },
     "metadata": {},
     "output_type": "display_data"
    },
    {
     "data": {
      "text/html": [
       "0.118392624992331"
      ],
      "text/latex": [
       "0.118392624992331"
      ],
      "text/markdown": [
       "0.118392624992331"
      ],
      "text/plain": [
       "[1] 0.1183926"
      ]
     },
     "metadata": {},
     "output_type": "display_data"
    }
   ],
   "source": [
    "mse_mlr_e_test <- mean(mlr_e_test$residuals^2)\n",
    "rmse_mlr_e_test <- sqrt(mse_mlr_e_test)\n",
    "rmse_mlr_e_test\n",
    "\n",
    "summary(mlr_e_test)$r.squared"
   ]
  },
  {
   "cell_type": "code",
   "execution_count": 140,
   "metadata": {},
   "outputs": [
    {
     "data": {
      "text/html": [
       "0.0321171813867534"
      ],
      "text/latex": [
       "0.0321171813867534"
      ],
      "text/markdown": [
       "0.0321171813867534"
      ],
      "text/plain": [
       "[1] 0.03211718"
      ]
     },
     "metadata": {},
     "output_type": "display_data"
    },
    {
     "data": {
      "text/html": [
       "0.120214446648217"
      ],
      "text/latex": [
       "0.120214446648217"
      ],
      "text/markdown": [
       "0.120214446648217"
      ],
      "text/plain": [
       "[1] 0.1202144"
      ]
     },
     "metadata": {},
     "output_type": "display_data"
    }
   ],
   "source": [
    "mse_mlr_f_test <- mean(mlr_f_test$residuals^2)\n",
    "rmse_mlr_f_test <- sqrt(mse_mlr_f_test)\n",
    "rmse_mlr_f_test\n",
    "\n",
    "summary(mlr_f_test)$r.squared"
   ]
  },
  {
   "cell_type": "code",
   "execution_count": null,
   "metadata": {},
   "outputs": [],
   "source": [
    " "
   ]
  },
  {
   "cell_type": "code",
   "execution_count": null,
   "metadata": {},
   "outputs": [],
   "source": []
  },
  {
   "cell_type": "markdown",
   "id": "987a0132-5a3c-4e44-9f13-7120d72c91c5",
   "metadata": {},
   "source": [
    "<a id=\"cell10\"></a>\n",
    "## 10. Find Best Model\n",
    "Compare the regression metrics of each model from section 9 to find the best model overall. To do this, \n",
    "\n",
    "1. Evaluate the models on the **testing set** using at least one metric (like MSE, RMSE or R-squared).\n",
    "2. After calculating the metrics on the testing set for each model, print them out in as a table to easily compare. You can use something like:\n",
    "```\n",
    "model_names <- c(\"model_1\", \"model_2\", \"model_3\")\n",
    "train_error <- c(\"model_1_value\", \"model_2_value\", \"model_3_value\")\n",
    "test_error <- c(\"model_1_value\", \"model_2_value\", \"model_3_value\")\n",
    "comparison_df <- data.frame(model_names, train_error, test_error)\n",
    "```\n",
    "3. Finally, from the comparison table you create, conclude which model performed the best.\n"
   ]
  },
  {
   "cell_type": "code",
   "execution_count": null,
   "metadata": {},
   "outputs": [],
   "source": [
    " "
   ]
  },
  {
   "cell_type": "code",
   "execution_count": 141,
   "id": "554eb37d-add8-49f7-8130-bc5c9f4d89a2",
   "metadata": {},
   "outputs": [],
   "source": [
    "model_names <- c(\"lm_a\", \"lm_b\", \"lm_c\", \"lm_d\", \"mlr_e\", \"mlr_f\")\n",
    "train_rmse <- c(\"0.042633884986004\", \"0.043392385033562\", \"0.0433315518426125\", \"0.0430772440922356\", \"0.0424013869180329\", \"0.0423731277100182\")\n",
    "test_rmse <- c(\"0.03322053062065\", \"0.0342407570726119\", \"0.0336190623854605\", \"0.0336635239626001\", \"0.0321504176207227\", \"0.0321171813867534\")\n",
    "train_rsquared <- c(\"0.0348125959119728\", \"0.00016376925087888\", \"0.00296520979252207\", \"0.01557426038156\", \"0.0453109273640681\", \"0.047492986038494\")\n",
    "test_rsquared <- c(\"0.0587280705157021\", \"0.0000260319245104704\", \"0.0360085732827907\", \"0.0334571088498333\", \"0.118392624992331\", \"0.120214446648217\")\n",
    "comparison_df <- data.frame(model_names, train_rmse, test_rmse, train_rsquared, test_rsquared)"
   ]
  },
  {
   "cell_type": "code",
   "execution_count": 142,
   "metadata": {},
   "outputs": [
    {
     "data": {
      "text/html": [
       "<table>\n",
       "<thead><tr><th scope=col>model_names</th><th scope=col>train_rmse</th><th scope=col>test_rmse</th><th scope=col>train_rsquared</th><th scope=col>test_rsquared</th></tr></thead>\n",
       "<tbody>\n",
       "\t<tr><td>mlr_f                </td><td>0.0423731277100182   </td><td>0.0321171813867534   </td><td>0.047492986038494    </td><td>0.120214446648217    </td></tr>\n",
       "\t<tr><td>mlr_e                </td><td>0.0424013869180329   </td><td>0.0321504176207227   </td><td>0.0453109273640681   </td><td>0.118392624992331    </td></tr>\n",
       "\t<tr><td>lm_a                 </td><td>0.042633884986004    </td><td>0.03322053062065     </td><td>0.0348125959119728   </td><td>0.0587280705157021   </td></tr>\n",
       "\t<tr><td>lm_d                 </td><td>0.0430772440922356   </td><td>0.0336635239626001   </td><td>0.01557426038156     </td><td>0.0334571088498333   </td></tr>\n",
       "\t<tr><td>lm_c                 </td><td>0.0433315518426125   </td><td>0.0336190623854605   </td><td>0.00296520979252207  </td><td>0.0360085732827907   </td></tr>\n",
       "\t<tr><td>lm_b                 </td><td>0.043392385033562    </td><td>0.0342407570726119   </td><td>0.00016376925087888  </td><td>0.0000260319245104704</td></tr>\n",
       "</tbody>\n",
       "</table>\n"
      ],
      "text/latex": [
       "\\begin{tabular}{r|lllll}\n",
       " model\\_names & train\\_rmse & test\\_rmse & train\\_rsquared & test\\_rsquared\\\\\n",
       "\\hline\n",
       "\t mlr\\_f               & 0.0423731277100182    & 0.0321171813867534    & 0.047492986038494     & 0.120214446648217    \\\\\n",
       "\t mlr\\_e               & 0.0424013869180329    & 0.0321504176207227    & 0.0453109273640681    & 0.118392624992331    \\\\\n",
       "\t lm\\_a                & 0.042633884986004     & 0.03322053062065      & 0.0348125959119728    & 0.0587280705157021   \\\\\n",
       "\t lm\\_d                & 0.0430772440922356    & 0.0336635239626001    & 0.01557426038156      & 0.0334571088498333   \\\\\n",
       "\t lm\\_c                & 0.0433315518426125    & 0.0336190623854605    & 0.00296520979252207   & 0.0360085732827907   \\\\\n",
       "\t lm\\_b                & 0.043392385033562     & 0.0342407570726119    & 0.00016376925087888   & 0.0000260319245104704\\\\\n",
       "\\end{tabular}\n"
      ],
      "text/markdown": [
       "\n",
       "| model_names | train_rmse | test_rmse | train_rsquared | test_rsquared |\n",
       "|---|---|---|---|---|\n",
       "| mlr_f                 | 0.0423731277100182    | 0.0321171813867534    | 0.047492986038494     | 0.120214446648217     |\n",
       "| mlr_e                 | 0.0424013869180329    | 0.0321504176207227    | 0.0453109273640681    | 0.118392624992331     |\n",
       "| lm_a                  | 0.042633884986004     | 0.03322053062065      | 0.0348125959119728    | 0.0587280705157021    |\n",
       "| lm_d                  | 0.0430772440922356    | 0.0336635239626001    | 0.01557426038156      | 0.0334571088498333    |\n",
       "| lm_c                  | 0.0433315518426125    | 0.0336190623854605    | 0.00296520979252207   | 0.0360085732827907    |\n",
       "| lm_b                  | 0.043392385033562     | 0.0342407570726119    | 0.00016376925087888   | 0.0000260319245104704 |\n",
       "\n"
      ],
      "text/plain": [
       "  model_names train_rmse         test_rmse          train_rsquared     \n",
       "1 mlr_f       0.0423731277100182 0.0321171813867534 0.047492986038494  \n",
       "2 mlr_e       0.0424013869180329 0.0321504176207227 0.0453109273640681 \n",
       "3 lm_a        0.042633884986004  0.03322053062065   0.0348125959119728 \n",
       "4 lm_d        0.0430772440922356 0.0336635239626001 0.01557426038156   \n",
       "5 lm_c        0.0433315518426125 0.0336190623854605 0.00296520979252207\n",
       "6 lm_b        0.043392385033562  0.0342407570726119 0.00016376925087888\n",
       "  test_rsquared        \n",
       "1 0.120214446648217    \n",
       "2 0.118392624992331    \n",
       "3 0.0587280705157021   \n",
       "4 0.0334571088498333   \n",
       "5 0.0360085732827907   \n",
       "6 0.0000260319245104704"
      ]
     },
     "metadata": {},
     "output_type": "display_data"
    }
   ],
   "source": [
    "comparison_df %>%\n",
    "#Comparison data frame is arrnaged by descending R-Squared values and ascending RMSE values\n",
    "arrange(desc(train_rsquared), train_rmse)\n",
    "#Based on the outcome, the mlr_2 offers the best model since the model has the highest R Square and the lowest RMSE."
   ]
  },
  {
   "cell_type": "markdown",
   "id": "8a83be78-8120-40a6-b8c2-3c9b9f9051b7",
   "metadata": {},
   "source": [
    "## Author(s)\n",
    "\n",
    "<h4> Yiwen Li </h4>\n",
    "\n",
    "## Contributions\n",
    "\n",
    "<h4> Tiffany Zhu </h4>\n",
    "\n",
    "## <h3 align=\"center\"> © IBM Corporation 2021. All rights reserved. <h3/>\n"
   ]
  },
  {
   "cell_type": "code",
   "execution_count": null,
   "metadata": {},
   "outputs": [],
   "source": []
  }
 ],
 "metadata": {
  "kernelspec": {
   "display_name": "R 3.6",
   "language": "R",
   "name": "r"
  },
  "language_info": {
   "codemirror_mode": "r",
   "file_extension": ".r",
   "mimetype": "text/x-r-source",
   "name": "R",
   "pygments_lexer": "r",
   "version": "3.6.1"
  }
 },
 "nbformat": 4,
 "nbformat_minor": 4
}
