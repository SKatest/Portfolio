{
 "cells": [
  {
   "cell_type": "code",
   "execution_count": 1,
   "id": "34cf70f2",
   "metadata": {},
   "outputs": [],
   "source": [
    "import pandas as pd\n",
    "import numpy as np\n",
    "import requests\n",
    "import time\n"
   ]
  },
  {
   "cell_type": "code",
   "execution_count": null,
   "id": "dfe3ff80",
   "metadata": {},
   "outputs": [],
   "source": [
    "# API_KEY = \"XXXX\"\n",
    "# CHANNEL_ID = \"UCiMhD4jzUqG-IgPzUmmytRQ\"\n",
    "# pageToken = \"\"\n",
    "# url = \"https://www.googleapis.com/youtube/v3/search?key=\"+API_KEY+\"&channelId=\"+CHANNEL_ID+\"&part=snippet,id&order=date&maXResults=5000\"+pageToken"
   ]
  },
  {
   "cell_type": "code",
   "execution_count": 127,
   "id": "cfd76679",
   "metadata": {},
   "outputs": [],
   "source": [
    "# object, S YOUTUBEA: https://developers.google.com/youtube/v3/docs/search\n",
    "# The snippet object contains basic details about a search result, \n",
    "# such as its title or description. For example, if the search result\n",
    "# is a video, then the title will\n",
    "# be the video's title and the description will be the video's description."
   ]
  },
  {
   "cell_type": "code",
   "execution_count": 128,
   "id": "cce53d5a",
   "metadata": {},
   "outputs": [],
   "source": [
    "# url = \"https://www.googleapis.com/youtube/v3/search?key=\"+API_KEY+\"&channelId=\"+CHANNEL_ID+\"&part=snippet,id&order=date&maXResults=5000\"+pageToken"
   ]
  },
  {
   "cell_type": "code",
   "execution_count": 129,
   "id": "41e8926b",
   "metadata": {},
   "outputs": [],
   "source": [
    "# response = requests.get(url).json()"
   ]
  },
  {
   "cell_type": "code",
   "execution_count": 130,
   "id": "26cb0588",
   "metadata": {},
   "outputs": [],
   "source": [
    "# response"
   ]
  },
  {
   "cell_type": "code",
   "execution_count": 131,
   "id": "b4c86459",
   "metadata": {},
   "outputs": [],
   "source": [
    "# response['items'][0]"
   ]
  },
  {
   "cell_type": "code",
   "execution_count": 132,
   "id": "df04b2f5",
   "metadata": {
    "scrolled": true
   },
   "outputs": [],
   "source": [
    "# video_id = response['items'][0]['id']['videoId']"
   ]
  },
  {
   "cell_type": "code",
   "execution_count": 133,
   "id": "84013f5a",
   "metadata": {},
   "outputs": [],
   "source": [
    "# video_title = response['items'][0]['snippet']['title']"
   ]
  },
  {
   "cell_type": "code",
   "execution_count": 134,
   "id": "e48e8965",
   "metadata": {
    "scrolled": true
   },
   "outputs": [],
   "source": [
    "# video_title"
   ]
  },
  {
   "cell_type": "code",
   "execution_count": 135,
   "id": "769bce4d",
   "metadata": {},
   "outputs": [],
   "source": [
    "# upload_date = response['items'][0]['snippet']['publishedAt']"
   ]
  },
  {
   "cell_type": "code",
   "execution_count": 136,
   "id": "ec195162",
   "metadata": {},
   "outputs": [],
   "source": [
    "# upload_date\n"
   ]
  },
  {
   "cell_type": "code",
   "execution_count": 137,
   "id": "1851211e",
   "metadata": {},
   "outputs": [],
   "source": [
    "# upload_date = str(upload_date).split(\"T\")[0]"
   ]
  },
  {
   "cell_type": "code",
   "execution_count": 138,
   "id": "5e05d9d2",
   "metadata": {},
   "outputs": [],
   "source": [
    "# upload_date"
   ]
  },
  {
   "cell_type": "code",
   "execution_count": 139,
   "id": "f016421d",
   "metadata": {},
   "outputs": [],
   "source": [
    "# #now i removed [0] so it is for all videos\n",
    "# video_id = response['items'][0]['id']['videoId']\n",
    "\n",
    "# video_title = response['items'][0]['snippet']['title']\n",
    "\n",
    "# upload_date = response['items'][0]['snippet']['publishedAt']\n",
    "\n",
    "# upload_date = str(upload_date).split(\"T\")[0]\n",
    "\n"
   ]
  },
  {
   "cell_type": "code",
   "execution_count": 140,
   "id": "290db009",
   "metadata": {
    "scrolled": true
   },
   "outputs": [],
   "source": [
    "# for video in response['items']:\n",
    "    \n",
    "#     if video['id']['kind']==\"youtube#video\":\n",
    "        \n",
    "#         video_id = video['id']['videoId']\n",
    "\n",
    "#         video_title = video['snippet']['title']\n",
    "        \n",
    "#         upload_date = video['snippet']['publishedAt']\n",
    "#         upload_date = str(upload_date).split(\"T\")[0]\n",
    "        \n",
    "#         print(video_id)\n",
    "#         print(video_title)\n",
    "#         print(upload_date)"
   ]
  },
  {
   "cell_type": "code",
   "execution_count": 141,
   "id": "8d0f2b39",
   "metadata": {},
   "outputs": [],
   "source": [
    "# url_video_stats = \"https://www.googleapis.com/youtube/v3/videos?id=\"+video_id+\"&part=statistics&key=\"+API_KEY"
   ]
  },
  {
   "cell_type": "code",
   "execution_count": 142,
   "id": "1a344518",
   "metadata": {},
   "outputs": [],
   "source": [
    "# response_video_stats = requests.get(url_video_stats).json()"
   ]
  },
  {
   "cell_type": "code",
   "execution_count": 143,
   "id": "c537d8cf",
   "metadata": {},
   "outputs": [],
   "source": [
    "# response_video_stats"
   ]
  },
  {
   "cell_type": "code",
   "execution_count": 144,
   "id": "322cda20",
   "metadata": {},
   "outputs": [],
   "source": [
    "#dislikecount ukinuto za javnost"
   ]
  },
  {
   "cell_type": "code",
   "execution_count": 145,
   "id": "7346e6f9",
   "metadata": {},
   "outputs": [],
   "source": [
    "# view_count = response_video_stats['items'][0]['statistics']['viewCount']\n",
    "# like_count = response_video_stats['items'][0]['statistics']['likeCount']\n",
    "# comment_count = response_video_stats['items'][0]['statistics']['commentCount']"
   ]
  },
  {
   "cell_type": "code",
   "execution_count": 146,
   "id": "ff4053f5",
   "metadata": {},
   "outputs": [],
   "source": [
    "# print(video_id)\n",
    "# print(video_title)\n",
    "# print(upload_date)\n",
    "# print(view_count)\n",
    "# print(like_count)\n",
    "# print(comment_count)\n",
    "# # 6 kolona u pandi"
   ]
  },
  {
   "cell_type": "code",
   "execution_count": 2,
   "id": "ff38ae6b",
   "metadata": {},
   "outputs": [],
   "source": [
    "API_KEY = \"XXXXX\"\n",
    "CHANNEL_ID = \"UCiMhD4jzUqG-IgPzUmmytRQ\""
   ]
  },
  {
   "cell_type": "code",
   "execution_count": 3,
   "id": "559fa53a",
   "metadata": {},
   "outputs": [],
   "source": [
    "queenpanda = pd.DataFrame(columns=['video_id','video_title','upload_date','view_count','like_count','comment_count'])"
   ]
  },
  {
   "cell_type": "code",
   "execution_count": 4,
   "id": "3b8b787f",
   "metadata": {},
   "outputs": [
    {
     "data": {
      "text/html": [
       "<div>\n",
       "<style scoped>\n",
       "    .dataframe tbody tr th:only-of-type {\n",
       "        vertical-align: middle;\n",
       "    }\n",
       "\n",
       "    .dataframe tbody tr th {\n",
       "        vertical-align: top;\n",
       "    }\n",
       "\n",
       "    .dataframe thead th {\n",
       "        text-align: right;\n",
       "    }\n",
       "</style>\n",
       "<table border=\"1\" class=\"dataframe\">\n",
       "  <thead>\n",
       "    <tr style=\"text-align: right;\">\n",
       "      <th></th>\n",
       "      <th>video_id</th>\n",
       "      <th>video_title</th>\n",
       "      <th>upload_date</th>\n",
       "      <th>view_count</th>\n",
       "      <th>like_count</th>\n",
       "      <th>comment_count</th>\n",
       "    </tr>\n",
       "  </thead>\n",
       "  <tbody>\n",
       "  </tbody>\n",
       "</table>\n",
       "</div>"
      ],
      "text/plain": [
       "Empty DataFrame\n",
       "Columns: [video_id, video_title, upload_date, view_count, like_count, comment_count]\n",
       "Index: []"
      ]
     },
     "execution_count": 4,
     "metadata": {},
     "output_type": "execute_result"
    }
   ],
   "source": [
    "queenpanda "
   ]
  },
  {
   "cell_type": "code",
   "execution_count": 5,
   "id": "662f04ce",
   "metadata": {},
   "outputs": [],
   "source": [
    "#B**\n",
    "# def video_details(video_id):\n",
    "#     #video_id dolazi iz prvog poziva nize\n",
    "    \n",
    "#         url_video_stats = \"https://www.googleapis.com/youtube/v3/videos?id=\"+video_id+\"&part=statistics&key=\"+API_KEY\n",
    "        \n",
    "#         response_video_stats = requests.get(url_video_stats).json()\n",
    "        \n",
    "#         view_count = response_video_stats['items']['statistics']['viewCount']\n",
    "#         like_count = response_video_stats['items']['statistics']['likeCount']\n",
    "#         comment_count = response_video_stats['items']['statistics']['commentCount']\n",
    "        \n",
    "#         return view_count, like_count, comment_count\n",
    "    \n",
    "    \n",
    "#     #B**\n",
    "def video_details(video_id):\n",
    "    #video_id dolazi iz prvog poziva nize\n",
    "    \n",
    "        url_video_stats = \"https://www.googleapis.com/youtube/v3/videos?id=\"+video_id+\"&part=statistics&key=\"+API_KEY\n",
    "        \n",
    "        response_video_stats = requests.get(url_video_stats).json()\n",
    "        \n",
    "#         view_count = response_video_stats['items'][0]['statistics']['viewCount']\n",
    "#         like_count = response_video_stats['items'][0]['statistics']['likeCount']\n",
    "#         comment_count = response_video_stats['items'][0]['statistics']['commentCount']\n",
    "        \n",
    "        \n",
    "        for stats in response_video_stats['items']:\n",
    "    \n",
    "             \n",
    "        \n",
    "                 view_count = stats['statistics']['viewCount']\n",
    "\n",
    "                 like_count = stats['statistics']['likeCount']\n",
    "               \n",
    "                 comment_count = stats['statistics']['commentCount']\n",
    "        \n",
    "        \n",
    "        return view_count, like_count, comment_count\n",
    "        \n",
    "       "
   ]
  },
  {
   "cell_type": "code",
   "execution_count": 6,
   "id": "c31e0747",
   "metadata": {},
   "outputs": [],
   "source": [
    "#A**\n",
    "def get_videos(queenpanda):\n",
    "    \n",
    "    pageToken = \"\"\n",
    "    \n",
    "   \n",
    "#da ne bude prebrzo kad skupis podatke\n",
    "    \n",
    "    url = \"https://www.googleapis.com/youtube/v3/search?key=\"+API_KEY+\"&channelId=\"+CHANNEL_ID+\"&part=snippet,id&order=date&maXResults=5000\"+pageToken\n",
    "    response = requests.get(url).json()\n",
    "    time.sleep(1)\n",
    "    \n",
    "    for video in response['items']:\n",
    "    \n",
    "        if video['id']['kind']==\"youtube#video\":\n",
    "        \n",
    "            video_id = video['id']['videoId']\n",
    "\n",
    "            video_title = video['snippet']['title']\n",
    "        \n",
    "            upload_date = video['snippet']['publishedAt']\n",
    "            upload_date = str(upload_date).split(\",\")[0]\n",
    "            upload_date = str(upload_date).split(\"T\")[0]\n",
    "             \n",
    "        \n",
    "            view_count, like_count, comment_count = video_details(video_id) \n",
    "            #ovo mora ići ovim redom, livo varijable desno funkcija jer se prenose, nije mi radilo obrnuto\n",
    "            #jer te varijable dolaze odozgo iz funkcije video_details\n",
    "        #odavde ide video_id i ide gore\n",
    "            queenpanda = queenpanda.append({'video_id':video_id, 'video_title':video_title,\n",
    "                                          'upload_date':upload_date, 'view_count':view_count,\n",
    "                                            'like_count':like_count,'comment_count':comment_count}, ignore_index=True)\n",
    "    \n",
    "    \n",
    "        try:\n",
    "            if response['nextPageToken'] != None: #if none, it means it reached the last page and break out of it\n",
    "                pageToken = \"pageToken=\" + response['nextPageToken']\n",
    "      \n",
    "        except:\n",
    "             break        \n",
    "            \n",
    "            \n",
    "    \n",
    "    return queenpanda\n",
    "#ovaj u"
   ]
  },
  {
   "cell_type": "code",
   "execution_count": 7,
   "id": "4075a8ec",
   "metadata": {},
   "outputs": [],
   "source": [
    "#queenpanda.head()"
   ]
  },
  {
   "cell_type": "code",
   "execution_count": 8,
   "id": "2f0eb794",
   "metadata": {},
   "outputs": [],
   "source": [
    "#queenpanda['upload_date']=queenpanda['upload_date'].astype('string')"
   ]
  },
  {
   "cell_type": "code",
   "execution_count": 9,
   "id": "85cbad35",
   "metadata": {},
   "outputs": [
    {
     "name": "stderr",
     "output_type": "stream",
     "text": [
      "C:\\Users\\kates\\AppData\\Local\\Temp\\ipykernel_15208\\1630088301.py:30: FutureWarning: The frame.append method is deprecated and will be removed from pandas in a future version. Use pandas.concat instead.\n",
      "  queenpanda = queenpanda.append({'video_id':video_id, 'video_title':video_title,\n",
      "C:\\Users\\kates\\AppData\\Local\\Temp\\ipykernel_15208\\1630088301.py:30: FutureWarning: The frame.append method is deprecated and will be removed from pandas in a future version. Use pandas.concat instead.\n",
      "  queenpanda = queenpanda.append({'video_id':video_id, 'video_title':video_title,\n",
      "C:\\Users\\kates\\AppData\\Local\\Temp\\ipykernel_15208\\1630088301.py:30: FutureWarning: The frame.append method is deprecated and will be removed from pandas in a future version. Use pandas.concat instead.\n",
      "  queenpanda = queenpanda.append({'video_id':video_id, 'video_title':video_title,\n",
      "C:\\Users\\kates\\AppData\\Local\\Temp\\ipykernel_15208\\1630088301.py:30: FutureWarning: The frame.append method is deprecated and will be removed from pandas in a future version. Use pandas.concat instead.\n",
      "  queenpanda = queenpanda.append({'video_id':video_id, 'video_title':video_title,\n",
      "C:\\Users\\kates\\AppData\\Local\\Temp\\ipykernel_15208\\1630088301.py:30: FutureWarning: The frame.append method is deprecated and will be removed from pandas in a future version. Use pandas.concat instead.\n",
      "  queenpanda = queenpanda.append({'video_id':video_id, 'video_title':video_title,\n"
     ]
    }
   ],
   "source": [
    "queenpanda = get_videos(queenpanda)"
   ]
  },
  {
   "cell_type": "code",
   "execution_count": 10,
   "id": "cf8cdb4c",
   "metadata": {},
   "outputs": [
    {
     "data": {
      "text/html": [
       "<div>\n",
       "<style scoped>\n",
       "    .dataframe tbody tr th:only-of-type {\n",
       "        vertical-align: middle;\n",
       "    }\n",
       "\n",
       "    .dataframe tbody tr th {\n",
       "        vertical-align: top;\n",
       "    }\n",
       "\n",
       "    .dataframe thead th {\n",
       "        text-align: right;\n",
       "    }\n",
       "</style>\n",
       "<table border=\"1\" class=\"dataframe\">\n",
       "  <thead>\n",
       "    <tr style=\"text-align: right;\">\n",
       "      <th></th>\n",
       "      <th>video_id</th>\n",
       "      <th>video_title</th>\n",
       "      <th>upload_date</th>\n",
       "      <th>view_count</th>\n",
       "      <th>like_count</th>\n",
       "      <th>comment_count</th>\n",
       "    </tr>\n",
       "  </thead>\n",
       "  <tbody>\n",
       "    <tr>\n",
       "      <th>0</th>\n",
       "      <td>sqfZU9_4VnE</td>\n",
       "      <td>Queen The Greatest Live: We Are The Champions ...</td>\n",
       "      <td>2023-03-31</td>\n",
       "      <td>18168</td>\n",
       "      <td>2103</td>\n",
       "      <td>156</td>\n",
       "    </tr>\n",
       "    <tr>\n",
       "      <th>1</th>\n",
       "      <td>6SEFD609S44</td>\n",
       "      <td>Queen The Greatest Live: Tie Your Mother Down ...</td>\n",
       "      <td>2023-03-29</td>\n",
       "      <td>17890</td>\n",
       "      <td>2345</td>\n",
       "      <td>55</td>\n",
       "    </tr>\n",
       "    <tr>\n",
       "      <th>2</th>\n",
       "      <td>zF-5Cco1--s</td>\n",
       "      <td>Queen + Adam Lambert Return For The Rhapsody T...</td>\n",
       "      <td>2023-03-24</td>\n",
       "      <td>133884</td>\n",
       "      <td>2930</td>\n",
       "      <td>361</td>\n",
       "    </tr>\n",
       "    <tr>\n",
       "      <th>3</th>\n",
       "      <td>s8w-KpG5vsc</td>\n",
       "      <td>Queen The Greatest Live: Tie Your Mother Down ...</td>\n",
       "      <td>2023-03-24</td>\n",
       "      <td>48633</td>\n",
       "      <td>3028</td>\n",
       "      <td>168</td>\n",
       "    </tr>\n",
       "    <tr>\n",
       "      <th>4</th>\n",
       "      <td>8HmtqXLSRsE</td>\n",
       "      <td>Roger Taylor and Brian May discuss Queen&amp;#39;s...</td>\n",
       "      <td>2023-03-22</td>\n",
       "      <td>36426</td>\n",
       "      <td>3249</td>\n",
       "      <td>62</td>\n",
       "    </tr>\n",
       "  </tbody>\n",
       "</table>\n",
       "</div>"
      ],
      "text/plain": [
       "      video_id                                        video_title upload_date  \\\n",
       "0  sqfZU9_4VnE  Queen The Greatest Live: We Are The Champions ...  2023-03-31   \n",
       "1  6SEFD609S44  Queen The Greatest Live: Tie Your Mother Down ...  2023-03-29   \n",
       "2  zF-5Cco1--s  Queen + Adam Lambert Return For The Rhapsody T...  2023-03-24   \n",
       "3  s8w-KpG5vsc  Queen The Greatest Live: Tie Your Mother Down ...  2023-03-24   \n",
       "4  8HmtqXLSRsE  Roger Taylor and Brian May discuss Queen&#39;s...  2023-03-22   \n",
       "\n",
       "  view_count like_count comment_count  \n",
       "0      18168       2103           156  \n",
       "1      17890       2345            55  \n",
       "2     133884       2930           361  \n",
       "3      48633       3028           168  \n",
       "4      36426       3249            62  "
      ]
     },
     "execution_count": 10,
     "metadata": {},
     "output_type": "execute_result"
    }
   ],
   "source": [
    "queenpanda.head()"
   ]
  },
  {
   "cell_type": "code",
   "execution_count": 11,
   "id": "58996bd7",
   "metadata": {},
   "outputs": [],
   "source": [
    "queenpanda.to_csv('queenpanda1',index=False)"
   ]
  },
  {
   "cell_type": "code",
   "execution_count": null,
   "id": "9194d3bd",
   "metadata": {},
   "outputs": [],
   "source": []
  },
  {
   "cell_type": "code",
   "execution_count": null,
   "id": "c21716ab",
   "metadata": {},
   "outputs": [],
   "source": []
  }
 ],
 "metadata": {
  "kernelspec": {
   "display_name": "Python 3 (ipykernel)",
   "language": "python",
   "name": "python3"
  },
  "language_info": {
   "codemirror_mode": {
    "name": "ipython",
    "version": 3
   },
   "file_extension": ".py",
   "mimetype": "text/x-python",
   "name": "python",
   "nbconvert_exporter": "python",
   "pygments_lexer": "ipython3",
   "version": "3.9.13"
  }
 },
 "nbformat": 4,
 "nbformat_minor": 5
}
