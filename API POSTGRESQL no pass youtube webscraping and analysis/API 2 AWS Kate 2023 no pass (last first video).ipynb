{
 "cells": [
  {
   "cell_type": "code",
   "execution_count": 21,
   "id": "4d3a8a14",
   "metadata": {
    "scrolled": true
   },
   "outputs": [
    {
     "name": "stdout",
     "output_type": "stream",
     "text": [
      "Requirement already satisfied: psycopg2 in d:\\anaconda2023\\lib\\site-packages (2.9.5)\n"
     ]
    }
   ],
   "source": [
    "!pip install psycopg2 \n",
    "#postgres baza, u anacondi je instaliraj\n",
    "import psycopg2 as ps\n",
    "import pandas as pd\n"
   ]
  },
  {
   "cell_type": "code",
   "execution_count": 22,
   "id": "a1f7be66",
   "metadata": {
    "scrolled": true
   },
   "outputs": [
    {
     "data": {
      "text/html": [
       "<div>\n",
       "<style scoped>\n",
       "    .dataframe tbody tr th:only-of-type {\n",
       "        vertical-align: middle;\n",
       "    }\n",
       "\n",
       "    .dataframe tbody tr th {\n",
       "        vertical-align: top;\n",
       "    }\n",
       "\n",
       "    .dataframe thead th {\n",
       "        text-align: right;\n",
       "    }\n",
       "</style>\n",
       "<table border=\"1\" class=\"dataframe\">\n",
       "  <thead>\n",
       "    <tr style=\"text-align: right;\">\n",
       "      <th></th>\n",
       "      <th>video_id</th>\n",
       "      <th>video_title</th>\n",
       "      <th>upload_date</th>\n",
       "      <th>view_count</th>\n",
       "      <th>like_count</th>\n",
       "      <th>comment_count</th>\n",
       "    </tr>\n",
       "  </thead>\n",
       "  <tbody>\n",
       "    <tr>\n",
       "      <th>0</th>\n",
       "      <td>sqfZU9_4VnE</td>\n",
       "      <td>Queen The Greatest Live: We Are The Champions ...</td>\n",
       "      <td>2023-03-31</td>\n",
       "      <td>18168</td>\n",
       "      <td>2103</td>\n",
       "      <td>156</td>\n",
       "    </tr>\n",
       "    <tr>\n",
       "      <th>1</th>\n",
       "      <td>6SEFD609S44</td>\n",
       "      <td>Queen The Greatest Live: Tie Your Mother Down ...</td>\n",
       "      <td>2023-03-29</td>\n",
       "      <td>17890</td>\n",
       "      <td>2345</td>\n",
       "      <td>55</td>\n",
       "    </tr>\n",
       "    <tr>\n",
       "      <th>2</th>\n",
       "      <td>zF-5Cco1--s</td>\n",
       "      <td>Queen + Adam Lambert Return For The Rhapsody T...</td>\n",
       "      <td>2023-03-24</td>\n",
       "      <td>133884</td>\n",
       "      <td>2930</td>\n",
       "      <td>361</td>\n",
       "    </tr>\n",
       "    <tr>\n",
       "      <th>3</th>\n",
       "      <td>s8w-KpG5vsc</td>\n",
       "      <td>Queen The Greatest Live: Tie Your Mother Down ...</td>\n",
       "      <td>2023-03-24</td>\n",
       "      <td>48633</td>\n",
       "      <td>3028</td>\n",
       "      <td>168</td>\n",
       "    </tr>\n",
       "    <tr>\n",
       "      <th>4</th>\n",
       "      <td>8HmtqXLSRsE</td>\n",
       "      <td>Roger Taylor and Brian May discuss Queen&amp;#39;s...</td>\n",
       "      <td>2023-03-22</td>\n",
       "      <td>36426</td>\n",
       "      <td>3249</td>\n",
       "      <td>62</td>\n",
       "    </tr>\n",
       "  </tbody>\n",
       "</table>\n",
       "</div>"
      ],
      "text/plain": [
       "      video_id                                        video_title upload_date  \\\n",
       "0  sqfZU9_4VnE  Queen The Greatest Live: We Are The Champions ...  2023-03-31   \n",
       "1  6SEFD609S44  Queen The Greatest Live: Tie Your Mother Down ...  2023-03-29   \n",
       "2  zF-5Cco1--s  Queen + Adam Lambert Return For The Rhapsody T...  2023-03-24   \n",
       "3  s8w-KpG5vsc  Queen The Greatest Live: Tie Your Mother Down ...  2023-03-24   \n",
       "4  8HmtqXLSRsE  Roger Taylor and Brian May discuss Queen&#39;s...  2023-03-22   \n",
       "\n",
       "   view_count  like_count  comment_count  \n",
       "0       18168        2103            156  \n",
       "1       17890        2345             55  \n",
       "2      133884        2930            361  \n",
       "3       48633        3028            168  \n",
       "4       36426        3249             62  "
      ]
     },
     "execution_count": 22,
     "metadata": {},
     "output_type": "execute_result"
    }
   ],
   "source": [
    "df = pd.read_csv('queenpanda1') \n",
    "\n",
    "df.head()"
   ]
  },
  {
   "cell_type": "code",
   "execution_count": null,
   "id": "4ba6738f",
   "metadata": {},
   "outputs": [],
   "source": []
  },
  {
   "cell_type": "code",
   "execution_count": 23,
   "id": "f999cae2",
   "metadata": {},
   "outputs": [],
   "source": [
    "#PRESLOZI FUNKCIJE"
   ]
  },
  {
   "cell_type": "code",
   "execution_count": 24,
   "id": "f31504d8",
   "metadata": {},
   "outputs": [],
   "source": [
    "def connect_to_db(host, dbname, port, username, password):\n",
    "    try:\n",
    "        conn = ps.connect(host = host, database = dbname, user=username, password=password, port=port)\n",
    "    except ps.OperationalError as e:\n",
    "        raise e\n",
    "    else:\n",
    "        print(\"Connected\")\n",
    "        \n",
    "        return conn\n",
    "    \n",
    "    #povezivanje s bazom"
   ]
  },
  {
   "cell_type": "code",
   "execution_count": 25,
   "id": "3582b415",
   "metadata": {},
   "outputs": [
    {
     "name": "stdout",
     "output_type": "stream",
     "text": [
      "Connected\n"
     ]
    }
   ],
   "source": [
    "host = 'localhost'\n",
    "dbname = 'Hellokate'\n",
    "port = '5432'\n",
    "username = 'XX'\n",
    "password = 'XX'\n",
    "conn = None\n",
    "conn = connect_to_db(host,dbname, port,username, password)\n",
    "curr = conn.cursor()"
   ]
  },
  {
   "cell_type": "code",
   "execution_count": 26,
   "id": "f44ecb93",
   "metadata": {},
   "outputs": [],
   "source": [
    "#prvo kreiranje tabele u samoj bazi aws online u koju punimo nasu pandu\n",
    "def create_table(curr):\n",
    "    create_table_command = (\"\"\"CREATE TABLE IF NOT EXISTS videos (\n",
    "                    video_id VARCHAR(255) PRIMARY KEY,\n",
    "                    video_title TEXT NOT NULL,\n",
    "                    upload_date DATE NOT NULL DEFAULT CURRENT_DATE,\n",
    "                    view_count INTEGER NOT NULL,\n",
    "                    like_count INTEGER NOT NULL,\n",
    "                    comment_count INTEGER NOT NULL\n",
    "           )\"\"\")\n",
    "    curr.execute(create_table_command)"
   ]
  },
  {
   "cell_type": "code",
   "execution_count": 27,
   "id": "64c19c12",
   "metadata": {},
   "outputs": [],
   "source": [
    "#insert command\n",
    "#currsor pod njom\n",
    "\n",
    "\n",
    "def insert_into_table(curr,video_id, video_title, upload_date, view_count, like_count, comment_count): \n",
    "    insert_into_videos = (\"\"\"INSERT INTO videos(video_id, video_title, upload_date, view_count,\n",
    "                        like_count, comment_count)\n",
    "    VALUES(%s,%s,%s,%s,%s,%s);\"\"\")\n",
    "\n",
    "    row_to_insert = (video_id, video_title, upload_date, view_count, like_count, comment_count)\n",
    "    curr.execute(insert_into_videos, row_to_insert)\n",
    "    \n",
    "    #insertintovideos je kao query2"
   ]
  },
  {
   "cell_type": "code",
   "execution_count": 28,
   "id": "eeac679a",
   "metadata": {},
   "outputs": [],
   "source": [
    "#sad za update \n",
    "#query i currsor pod njom \n",
    "def update_row(curr,video_id, video_title, view_count, like_count, comment_count):\n",
    "    query = (\"\"\"UPDATE videos\n",
    "            SET video_title = %s,\n",
    "                view_count = %s,\n",
    "                like_count= %s,\n",
    "                comment_count= %s\n",
    "            WHERE video_id = %s;\"\"\")\n",
    "    vars_to_update = (video_title,view_count,like_count,comment_count,video_id)\n",
    "    curr.execute(query,vars_to_update)"
   ]
  },
  {
   "cell_type": "code",
   "execution_count": 29,
   "id": "5c022135",
   "metadata": {},
   "outputs": [],
   "source": [
    "def check_if_video_exsists(curr, video_id):\n",
    "    query = (\"\"\"SELECT video_id FROM VIDEOS WHERE video_id = %s\"\"\")\n",
    "    curr.execute(query,(video_id,)) #provjeri ovaj zarez\n",
    "    #video id as a tuple nedds to be passed\n",
    "    \n",
    "    return curr.fetchone() is not None\n",
    "                        \n",
    "#fetchone vraća 1 red, znači ako s nađe video s traženim videoid-om, vraća 1 row,ako ne nađe videoid,\n",
    "#vraća none"
   ]
  },
  {
   "cell_type": "code",
   "execution_count": 30,
   "id": "253bd7ff",
   "metadata": {},
   "outputs": [],
   "source": [
    "# def truncate_table(curr):\n",
    "#     truncate_table = (\"\"\"TRUNCATE TABLE videos\"\"\")\n",
    "\n",
    "#     curr.execute(truncate_table)\n",
    "    \n",
    "    #ovo nismo imali u tutorialu provjeri"
   ]
  },
  {
   "cell_type": "code",
   "execution_count": 31,
   "id": "51c6544b",
   "metadata": {},
   "outputs": [],
   "source": [
    "def append_from_df_to_db(curr,df):\n",
    "\n",
    "    for i, row in df.iterrows():\n",
    "        insert_into_table(curr, row['video_id'], row['video_title'],row['upload_date'],row['view_count'],\n",
    "                          row['like_count'],row['comment_count'])\n",
    "      #ovdje ide i upload jer novi red cili se uploada, a kad azuriranje nema se sta azurirat\n",
    "    #datum uplaoda nego samo broj lajkova ik omenta i sl."
   ]
  },
  {
   "cell_type": "code",
   "execution_count": 32,
   "id": "dbbae80d",
   "metadata": {},
   "outputs": [],
   "source": [
    "#općenito update nove baze, gore je napravili a) sad je azuriramo baz podataka aws npr. \n",
    "#ili sa update row ako već postoji taj video id ili prenosimo podatke u temp df i insert new row s podatcima\n",
    "def update_db(curr,df):#napravit ćemo temporarary dataframe di provjeravat \n",
    "    temp_df = pd.DataFrame(columns=['video_id','video_title','view_count','upload_date','like_count','comment_count'])\n",
    "\n",
    "    for i, row in df.iterrows():\n",
    "        if check_if_video_exsists(curr,row['video_id']):\n",
    "            update_row(curr, row['video_id'], row['video_title'], row['view_count'],row['like_count'],row['comment_count'])\n",
    "        else:\n",
    "            temp_df=temp_df.append(row)\n",
    "    \n",
    "    return temp_df"
   ]
  },
  {
   "cell_type": "code",
   "execution_count": 33,
   "id": "93830efb",
   "metadata": {},
   "outputs": [],
   "source": [
    "# host = 'localhost'\n",
    "# dbname = 'Hellokate'\n",
    "# port = '5432'\n",
    "# username = 'XXXX'\n",
    "# password = 'XXXX'\n",
    "# conn = None\n",
    "# conn = connect_to_db(host_name,dbname, port,username, password)\n",
    "# curr = conn.cursor()"
   ]
  },
  {
   "cell_type": "code",
   "execution_count": 34,
   "id": "198f078a",
   "metadata": {},
   "outputs": [],
   "source": [
    "create_table(curr)"
   ]
  },
  {
   "cell_type": "code",
   "execution_count": 35,
   "id": "a0780d38",
   "metadata": {},
   "outputs": [],
   "source": [
    "df=update_db(curr,df)\n",
    "conn.commit()"
   ]
  },
  {
   "cell_type": "code",
   "execution_count": 36,
   "id": "423a7971",
   "metadata": {},
   "outputs": [],
   "source": [
    "append_from_df_to_db(curr, df)\n",
    "conn.commit()"
   ]
  },
  {
   "cell_type": "code",
   "execution_count": 37,
   "id": "f1f2dd5c",
   "metadata": {},
   "outputs": [
    {
     "name": "stdout",
     "output_type": "stream",
     "text": [
      "[('sqfZU9_4VnE', 'Queen The Greatest Live: We Are The Champions (Episode 11)', datetime.date(2023, 3, 31), 18168, 2103, 156), ('6SEFD609S44', 'Queen The Greatest Live: Tie Your Mother Down (Episode 10) out now! #shorts #queenthegreatestlive', datetime.date(2023, 3, 29), 17890, 2345, 55), ('zF-5Cco1--s', 'Queen + Adam Lambert Return For The Rhapsody Tour Across North America!', datetime.date(2023, 3, 24), 133884, 2930, 361), ('s8w-KpG5vsc', 'Queen The Greatest Live: Tie Your Mother Down (Episode 10)', datetime.date(2023, 3, 24), 48633, 3028, 168), ('8HmtqXLSRsE', 'Roger Taylor and Brian May discuss Queen&#39;s Live Lighting Secrets 💡! #shorts #queenthegreatestlive', datetime.date(2023, 3, 22), 36426, 3249, 62)]\n"
     ]
    }
   ],
   "source": [
    "curr.execute(\"SELECT * FROM VIDEOS\")\n",
    "print(curr.fetchall())"
   ]
  },
  {
   "cell_type": "code",
   "execution_count": null,
   "id": "caba5a3b",
   "metadata": {},
   "outputs": [],
   "source": []
  },
  {
   "cell_type": "code",
   "execution_count": 18,
   "id": "57656d91",
   "metadata": {},
   "outputs": [],
   "source": [
    "#napravili smo online tablicu za popunit je "
   ]
  },
  {
   "cell_type": "code",
   "execution_count": 19,
   "id": "99aedd1e",
   "metadata": {},
   "outputs": [],
   "source": [
    "# for i, row in queenpanda.iterrows():\n",
    "#     if check_if_video_exsists():\n",
    "#         update_row(curr, row['video_id'], row['video_title'], row['view_count'],row['like_count'],row['comment_count'],row['video_id'])\n",
    "#     else:\n",
    "#         append(row)"
   ]
  },
  {
   "cell_type": "code",
   "execution_count": null,
   "id": "ed8a2e61",
   "metadata": {},
   "outputs": [],
   "source": []
  },
  {
   "cell_type": "code",
   "execution_count": 20,
   "id": "16183ae1",
   "metadata": {},
   "outputs": [],
   "source": [
    "#new_vid_df = update_db(curr,df) \n",
    "\n",
    "#OK PROVJERI JEL UPDATE QUEENPANDA ILI NOVA TABLICA #UPDATE POSTOJECA WUEEN\n",
    "#A INSERT NOVA TABLICAS TEMP DF u biti prvo sa queenpanda probas cili proces i dogodi se upadte redova pa s novom\n",
    "#tablicom i dogodi se insert novih redova"
   ]
  },
  {
   "cell_type": "code",
   "execution_count": 29,
   "id": "03c73ce2",
   "metadata": {},
   "outputs": [],
   "source": [
    "#conn.commit()"
   ]
  },
  {
   "cell_type": "code",
   "execution_count": null,
   "id": "0b29f881",
   "metadata": {},
   "outputs": [],
   "source": []
  },
  {
   "cell_type": "code",
   "execution_count": null,
   "id": "bfc53847",
   "metadata": {},
   "outputs": [],
   "source": []
  }
 ],
 "metadata": {
  "kernelspec": {
   "display_name": "Python 3 (ipykernel)",
   "language": "python",
   "name": "python3"
  },
  "language_info": {
   "codemirror_mode": {
    "name": "ipython",
    "version": 3
   },
   "file_extension": ".py",
   "mimetype": "text/x-python",
   "name": "python",
   "nbconvert_exporter": "python",
   "pygments_lexer": "ipython3",
   "version": "3.9.13"
  }
 },
 "nbformat": 4,
 "nbformat_minor": 5
}
